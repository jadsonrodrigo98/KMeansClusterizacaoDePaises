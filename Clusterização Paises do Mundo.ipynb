{
 "cells": [
  {
   "cell_type": "markdown",
   "metadata": {},
   "source": [
    "# Análise de Cluster para agrupamento de países com base em indicadores socioeconômicos com KMeans. "
   ]
  },
  {
   "cell_type": "markdown",
   "metadata": {},
   "source": [
    "# Introdução \n",
    "\n",
    "No mundo em que vivemos, há aproximamente 200 países, em que alguns são similares entre si e diferentes dos demais. Há alguns países, os chamados países desenvolvidos, que possuem alta renda per capita, alto nível de escolarização,possuem industrias avançadas, enquanto que há países que possuem baixa renda, a economia predominantemente agropecuária, baixo nível de alfabetização. Neste projeto, será estudada a relação entre as variáveis socioeconômicas, em que seguida será aplicada o algoritmo KMeans para agrupar os países com base nessas variáveis. \n"
   ]
  },
  {
   "cell_type": "code",
   "execution_count": 54,
   "metadata": {},
   "outputs": [],
   "source": [
    "import pandas              as pd\n",
    "import seaborn             as sns\n",
    "import matplotlib.pyplot   as plt\n",
    "import plotly.express      as px\n",
    "from   sklearn.cluster     import KMeans\n",
    "from sklearn.metrics       import silhouette_score"
   ]
  },
  {
   "cell_type": "markdown",
   "metadata": {},
   "source": [
    "## Conhecendo o conjunto de dados\n",
    "\n",
    "O conjunto de dados utilizado será o conjunto \"countries of the world.csv\", disponibilizado na plataforma Kaggle. Inicialmente, pode-se visualizar as 6 primeiras linhas do conjunto de dados."
   ]
  },
  {
   "cell_type": "code",
   "execution_count": 55,
   "metadata": {},
   "outputs": [
    {
     "data": {
      "text/html": [
       "<div>\n",
       "<style scoped>\n",
       "    .dataframe tbody tr th:only-of-type {\n",
       "        vertical-align: middle;\n",
       "    }\n",
       "\n",
       "    .dataframe tbody tr th {\n",
       "        vertical-align: top;\n",
       "    }\n",
       "\n",
       "    .dataframe thead th {\n",
       "        text-align: right;\n",
       "    }\n",
       "</style>\n",
       "<table border=\"1\" class=\"dataframe\">\n",
       "  <thead>\n",
       "    <tr style=\"text-align: right;\">\n",
       "      <th></th>\n",
       "      <th>Country</th>\n",
       "      <th>Region</th>\n",
       "      <th>Population</th>\n",
       "      <th>Area (sq. mi.)</th>\n",
       "      <th>Pop. Density (per sq. mi.)</th>\n",
       "      <th>Coastline (coast/area ratio)</th>\n",
       "      <th>Net migration</th>\n",
       "      <th>Infant mortality (per 1000 births)</th>\n",
       "      <th>GDP ($ per capita)</th>\n",
       "      <th>Literacy (%)</th>\n",
       "      <th>Phones (per 1000)</th>\n",
       "      <th>Arable (%)</th>\n",
       "      <th>Crops (%)</th>\n",
       "      <th>Other (%)</th>\n",
       "      <th>Climate</th>\n",
       "      <th>Birthrate</th>\n",
       "      <th>Deathrate</th>\n",
       "      <th>Agriculture</th>\n",
       "      <th>Industry</th>\n",
       "      <th>Service</th>\n",
       "    </tr>\n",
       "  </thead>\n",
       "  <tbody>\n",
       "    <tr>\n",
       "      <th>0</th>\n",
       "      <td>Afghanistan</td>\n",
       "      <td>ASIA (EX. NEAR EAST)</td>\n",
       "      <td>31056997</td>\n",
       "      <td>647500</td>\n",
       "      <td>48,0</td>\n",
       "      <td>0,00</td>\n",
       "      <td>23,06</td>\n",
       "      <td>163,07</td>\n",
       "      <td>700.0</td>\n",
       "      <td>36,0</td>\n",
       "      <td>3,2</td>\n",
       "      <td>12,13</td>\n",
       "      <td>0,22</td>\n",
       "      <td>87,65</td>\n",
       "      <td>1</td>\n",
       "      <td>46,6</td>\n",
       "      <td>20,34</td>\n",
       "      <td>0,38</td>\n",
       "      <td>0,24</td>\n",
       "      <td>0,38</td>\n",
       "    </tr>\n",
       "    <tr>\n",
       "      <th>1</th>\n",
       "      <td>Albania</td>\n",
       "      <td>EASTERN EUROPE</td>\n",
       "      <td>3581655</td>\n",
       "      <td>28748</td>\n",
       "      <td>124,6</td>\n",
       "      <td>1,26</td>\n",
       "      <td>-4,93</td>\n",
       "      <td>21,52</td>\n",
       "      <td>4500.0</td>\n",
       "      <td>86,5</td>\n",
       "      <td>71,2</td>\n",
       "      <td>21,09</td>\n",
       "      <td>4,42</td>\n",
       "      <td>74,49</td>\n",
       "      <td>3</td>\n",
       "      <td>15,11</td>\n",
       "      <td>5,22</td>\n",
       "      <td>0,232</td>\n",
       "      <td>0,188</td>\n",
       "      <td>0,579</td>\n",
       "    </tr>\n",
       "    <tr>\n",
       "      <th>2</th>\n",
       "      <td>Algeria</td>\n",
       "      <td>NORTHERN AFRICA</td>\n",
       "      <td>32930091</td>\n",
       "      <td>2381740</td>\n",
       "      <td>13,8</td>\n",
       "      <td>0,04</td>\n",
       "      <td>-0,39</td>\n",
       "      <td>31</td>\n",
       "      <td>6000.0</td>\n",
       "      <td>70,0</td>\n",
       "      <td>78,1</td>\n",
       "      <td>3,22</td>\n",
       "      <td>0,25</td>\n",
       "      <td>96,53</td>\n",
       "      <td>1</td>\n",
       "      <td>17,14</td>\n",
       "      <td>4,61</td>\n",
       "      <td>0,101</td>\n",
       "      <td>0,6</td>\n",
       "      <td>0,298</td>\n",
       "    </tr>\n",
       "    <tr>\n",
       "      <th>3</th>\n",
       "      <td>American Samoa</td>\n",
       "      <td>OCEANIA</td>\n",
       "      <td>57794</td>\n",
       "      <td>199</td>\n",
       "      <td>290,4</td>\n",
       "      <td>58,29</td>\n",
       "      <td>-20,71</td>\n",
       "      <td>9,27</td>\n",
       "      <td>8000.0</td>\n",
       "      <td>97,0</td>\n",
       "      <td>259,5</td>\n",
       "      <td>10</td>\n",
       "      <td>15</td>\n",
       "      <td>75</td>\n",
       "      <td>2</td>\n",
       "      <td>22,46</td>\n",
       "      <td>3,27</td>\n",
       "      <td>NaN</td>\n",
       "      <td>NaN</td>\n",
       "      <td>NaN</td>\n",
       "    </tr>\n",
       "    <tr>\n",
       "      <th>4</th>\n",
       "      <td>Andorra</td>\n",
       "      <td>WESTERN EUROPE</td>\n",
       "      <td>71201</td>\n",
       "      <td>468</td>\n",
       "      <td>152,1</td>\n",
       "      <td>0,00</td>\n",
       "      <td>6,6</td>\n",
       "      <td>4,05</td>\n",
       "      <td>19000.0</td>\n",
       "      <td>100,0</td>\n",
       "      <td>497,2</td>\n",
       "      <td>2,22</td>\n",
       "      <td>0</td>\n",
       "      <td>97,78</td>\n",
       "      <td>3</td>\n",
       "      <td>8,71</td>\n",
       "      <td>6,25</td>\n",
       "      <td>NaN</td>\n",
       "      <td>NaN</td>\n",
       "      <td>NaN</td>\n",
       "    </tr>\n",
       "    <tr>\n",
       "      <th>5</th>\n",
       "      <td>Angola</td>\n",
       "      <td>SUB-SAHARAN AFRICA</td>\n",
       "      <td>12127071</td>\n",
       "      <td>1246700</td>\n",
       "      <td>9,7</td>\n",
       "      <td>0,13</td>\n",
       "      <td>0</td>\n",
       "      <td>191,19</td>\n",
       "      <td>1900.0</td>\n",
       "      <td>42,0</td>\n",
       "      <td>7,8</td>\n",
       "      <td>2,41</td>\n",
       "      <td>0,24</td>\n",
       "      <td>97,35</td>\n",
       "      <td>NaN</td>\n",
       "      <td>45,11</td>\n",
       "      <td>24,2</td>\n",
       "      <td>0,096</td>\n",
       "      <td>0,658</td>\n",
       "      <td>0,246</td>\n",
       "    </tr>\n",
       "  </tbody>\n",
       "</table>\n",
       "</div>"
      ],
      "text/plain": [
       "           Country                               Region  Population  \\\n",
       "0     Afghanistan         ASIA (EX. NEAR EAST)             31056997   \n",
       "1         Albania   EASTERN EUROPE                          3581655   \n",
       "2         Algeria   NORTHERN AFRICA                        32930091   \n",
       "3  American Samoa   OCEANIA                                   57794   \n",
       "4         Andorra   WESTERN EUROPE                            71201   \n",
       "5          Angola   SUB-SAHARAN AFRICA                     12127071   \n",
       "\n",
       "   Area (sq. mi.) Pop. Density (per sq. mi.) Coastline (coast/area ratio)  \\\n",
       "0          647500                       48,0                         0,00   \n",
       "1           28748                      124,6                         1,26   \n",
       "2         2381740                       13,8                         0,04   \n",
       "3             199                      290,4                        58,29   \n",
       "4             468                      152,1                         0,00   \n",
       "5         1246700                        9,7                         0,13   \n",
       "\n",
       "  Net migration Infant mortality (per 1000 births)  GDP ($ per capita)  \\\n",
       "0         23,06                             163,07               700.0   \n",
       "1         -4,93                              21,52              4500.0   \n",
       "2         -0,39                                 31              6000.0   \n",
       "3        -20,71                               9,27              8000.0   \n",
       "4           6,6                               4,05             19000.0   \n",
       "5             0                             191,19              1900.0   \n",
       "\n",
       "  Literacy (%) Phones (per 1000) Arable (%) Crops (%) Other (%) Climate  \\\n",
       "0         36,0               3,2      12,13      0,22     87,65       1   \n",
       "1         86,5              71,2      21,09      4,42     74,49       3   \n",
       "2         70,0              78,1       3,22      0,25     96,53       1   \n",
       "3         97,0             259,5         10        15        75       2   \n",
       "4        100,0             497,2       2,22         0     97,78       3   \n",
       "5         42,0               7,8       2,41      0,24     97,35     NaN   \n",
       "\n",
       "  Birthrate Deathrate Agriculture Industry Service  \n",
       "0      46,6     20,34        0,38     0,24    0,38  \n",
       "1     15,11      5,22       0,232    0,188   0,579  \n",
       "2     17,14      4,61       0,101      0,6   0,298  \n",
       "3     22,46      3,27         NaN      NaN     NaN  \n",
       "4      8,71      6,25         NaN      NaN     NaN  \n",
       "5     45,11      24,2       0,096    0,658   0,246  "
      ]
     },
     "execution_count": 55,
     "metadata": {},
     "output_type": "execute_result"
    }
   ],
   "source": [
    "dados=pd.read_csv(\"countries of the world.csv\")\n",
    "dados.head(6)"
   ]
  },
  {
   "cell_type": "markdown",
   "metadata": {},
   "source": [
    "Após visualizar as 6 primeiras linhas, nota-se a presença de alguns valores faltantes. Por fim, pode-se verificar a quantidade de linhas e colunas do conjunto de dados."
   ]
  },
  {
   "cell_type": "code",
   "execution_count": 56,
   "metadata": {},
   "outputs": [
    {
     "data": {
      "text/plain": [
       "(227, 20)"
      ]
     },
     "execution_count": 56,
     "metadata": {},
     "output_type": "execute_result"
    }
   ],
   "source": [
    "dados.shape"
   ]
  },
  {
   "cell_type": "markdown",
   "metadata": {},
   "source": [
    "É possivel verificar que o conjunto de dados é composto por 227 observações(países) e 19 colunas. As colunas do dataset são:\n",
    "\n",
    "**Country** = País\n",
    "\n",
    "**Region** = Região\n",
    "\n",
    "**Population** = População do país\n",
    "\n",
    "**Area (sq. mi.)** = Área (M^2)\n",
    "\n",
    "**Pop. Density (per sq. mi.)** = Densidade Populacional (Em M^2)\n",
    "\n",
    "**Net migration** = Migração liquida (Diferença entre o número de imigrantes qualificados e emigrantes qualificados)\n",
    "\n",
    "**Infant mortality (per 1000 births)** = Mortalidade infantil (Por 1000 nascimentos)\n",
    "\n",
    "**GDP (per capita)** = PIB per capita\n",
    "\n",
    "**Literacy (%)** = Alfabetização (%)\n",
    "\n",
    "**Phones (per 1000)** = Quantidade de Celulas por 1000 pessoas\n",
    "\n",
    "**Arable (%)** = Arável\n",
    "\n",
    "**Crops (%)** = Percentual de área plantada\n",
    "\n",
    "**Others (%)** = Outros\n",
    "\n",
    "**Climate** = Clima \n",
    "\n",
    "**Birthrate** = Taxa de nascimento\n",
    "\n",
    "**Deathrate** = Taxa de mortalidade \n",
    "\n",
    "**Agriculture** = Nível da industria de agricultura do país\n",
    "\n",
    "**Industry** = Nível da industria de indústria do país\n",
    "\n",
    "**Service** = Nível da industria de Serviço do país\n"
   ]
  },
  {
   "cell_type": "markdown",
   "metadata": {},
   "source": [
    "# Pré Processamento"
   ]
  },
  {
   "cell_type": "markdown",
   "metadata": {},
   "source": [
    "Após conhecer o conjunto de dados, pode-se então realizar o pré processamento dos dados. Como há o interesse no agrupamento de países, não há o interesse na variável \"region\", logo é possível exclui-la do conjunto de dados. "
   ]
  },
  {
   "cell_type": "code",
   "execution_count": 57,
   "metadata": {},
   "outputs": [],
   "source": [
    "dados.drop('Region',axis=1,inplace=True)"
   ]
  },
  {
   "cell_type": "markdown",
   "metadata": {},
   "source": [
    "Então, como segunda etapa pode-se verificar se os dados estão no formato correto. "
   ]
  },
  {
   "cell_type": "code",
   "execution_count": 58,
   "metadata": {},
   "outputs": [
    {
     "data": {
      "text/plain": [
       "Country                                object\n",
       "Population                              int64\n",
       "Area (sq. mi.)                          int64\n",
       "Pop. Density (per sq. mi.)             object\n",
       "Coastline (coast/area ratio)           object\n",
       "Net migration                          object\n",
       "Infant mortality (per 1000 births)     object\n",
       "GDP ($ per capita)                    float64\n",
       "Literacy (%)                           object\n",
       "Phones (per 1000)                      object\n",
       "Arable (%)                             object\n",
       "Crops (%)                              object\n",
       "Other (%)                              object\n",
       "Climate                                object\n",
       "Birthrate                              object\n",
       "Deathrate                              object\n",
       "Agriculture                            object\n",
       "Industry                               object\n",
       "Service                                object\n",
       "dtype: object"
      ]
     },
     "execution_count": 58,
     "metadata": {},
     "output_type": "execute_result"
    }
   ],
   "source": [
    "dados.dtypes"
   ]
  },
  {
   "cell_type": "markdown",
   "metadata": {},
   "source": [
    "Verifica-se que a maioria das variáveis quantitativas estão no formato objeto, logo deve-se transformá-las em formato numérico. "
   ]
  },
  {
   "cell_type": "code",
   "execution_count": 59,
   "metadata": {},
   "outputs": [],
   "source": [
    "dados.replace(',','.',regex=True,inplace=True)\n",
    "\n",
    "colunasobjetos=dados.select_dtypes(include='object').columns\n",
    "colunasobjetos=colunasobjetos.drop([\"Country\"])\n",
    "for i in colunasobjetos: \n",
    "     dados[i]=pd.to_numeric(dados[i])"
   ]
  },
  {
   "cell_type": "code",
   "execution_count": 60,
   "metadata": {},
   "outputs": [
    {
     "data": {
      "text/plain": [
       "Country                                object\n",
       "Population                              int64\n",
       "Area (sq. mi.)                          int64\n",
       "Pop. Density (per sq. mi.)            float64\n",
       "Coastline (coast/area ratio)          float64\n",
       "Net migration                         float64\n",
       "Infant mortality (per 1000 births)    float64\n",
       "GDP ($ per capita)                    float64\n",
       "Literacy (%)                          float64\n",
       "Phones (per 1000)                     float64\n",
       "Arable (%)                            float64\n",
       "Crops (%)                             float64\n",
       "Other (%)                             float64\n",
       "Climate                               float64\n",
       "Birthrate                             float64\n",
       "Deathrate                             float64\n",
       "Agriculture                           float64\n",
       "Industry                              float64\n",
       "Service                               float64\n",
       "dtype: object"
      ]
     },
     "execution_count": 60,
     "metadata": {},
     "output_type": "execute_result"
    }
   ],
   "source": [
    "dados.dtypes"
   ]
  },
  {
   "cell_type": "markdown",
   "metadata": {},
   "source": [
    "Após transformar as variáveis no formato correto, deve-se analisar a quantidade de valores nulos por variável. Verificando, de forma decrescente do percentual de valores nulos por variável, tem-se:\n"
   ]
  },
  {
   "cell_type": "code",
   "execution_count": 61,
   "metadata": {},
   "outputs": [
    {
     "data": {
      "text/plain": [
       "Climate                               9.691630\n",
       "Literacy (%)                          7.929515\n",
       "Industry                              7.048458\n",
       "Service                               6.607930\n",
       "Agriculture                           6.607930\n",
       "Phones (per 1000)                     1.762115\n",
       "Deathrate                             1.762115\n",
       "Birthrate                             1.321586\n",
       "Infant mortality (per 1000 births)    1.321586\n",
       "Net migration                         1.321586\n",
       "Other (%)                             0.881057\n",
       "Crops (%)                             0.881057\n",
       "Arable (%)                            0.881057\n",
       "GDP ($ per capita)                    0.440529\n",
       "Coastline (coast/area ratio)          0.000000\n",
       "Pop. Density (per sq. mi.)            0.000000\n",
       "Area (sq. mi.)                        0.000000\n",
       "Population                            0.000000\n",
       "Country                               0.000000\n",
       "dtype: float64"
      ]
     },
     "execution_count": 61,
     "metadata": {},
     "output_type": "execute_result"
    }
   ],
   "source": [
    "dados.isnull().sum().sort_values(ascending=False)/len(dados)*100"
   ]
  },
  {
   "cell_type": "markdown",
   "metadata": {
    "scrolled": true
   },
   "source": [
    "Tem-se que as variável Climate, Literacy(%), Industry, Service, Agriculture são as variáveis com maior percentual de valores nulos, com percentual variando entre 6.6% a 9.69%. Além disso, nota-se uma pequena presença de valores nulos nas variáveis Phones (per 1000), Deathrate, Birthrate, Infant mortality (per 1000 births) e Net migration. Como forma de tratamento dos valores nulos, é possível verificar as medidas das variáveis quantativas para verificar uma forma de tratar os dados nulos."
   ]
  },
  {
   "cell_type": "code",
   "execution_count": 62,
   "metadata": {},
   "outputs": [
    {
     "data": {
      "text/html": [
       "<div>\n",
       "<style scoped>\n",
       "    .dataframe tbody tr th:only-of-type {\n",
       "        vertical-align: middle;\n",
       "    }\n",
       "\n",
       "    .dataframe tbody tr th {\n",
       "        vertical-align: top;\n",
       "    }\n",
       "\n",
       "    .dataframe thead th {\n",
       "        text-align: right;\n",
       "    }\n",
       "</style>\n",
       "<table border=\"1\" class=\"dataframe\">\n",
       "  <thead>\n",
       "    <tr style=\"text-align: right;\">\n",
       "      <th></th>\n",
       "      <th>count</th>\n",
       "      <th>mean</th>\n",
       "      <th>std</th>\n",
       "      <th>min</th>\n",
       "      <th>25%</th>\n",
       "      <th>50%</th>\n",
       "      <th>75%</th>\n",
       "      <th>max</th>\n",
       "    </tr>\n",
       "  </thead>\n",
       "  <tbody>\n",
       "    <tr>\n",
       "      <th>Population</th>\n",
       "      <td>227.0</td>\n",
       "      <td>2.874028e+07</td>\n",
       "      <td>1.178913e+08</td>\n",
       "      <td>7026.000</td>\n",
       "      <td>437624.00000</td>\n",
       "      <td>4786994.000</td>\n",
       "      <td>1.749777e+07</td>\n",
       "      <td>1.313974e+09</td>\n",
       "    </tr>\n",
       "    <tr>\n",
       "      <th>Area (sq. mi.)</th>\n",
       "      <td>227.0</td>\n",
       "      <td>5.982270e+05</td>\n",
       "      <td>1.790282e+06</td>\n",
       "      <td>2.000</td>\n",
       "      <td>4647.50000</td>\n",
       "      <td>86600.000</td>\n",
       "      <td>4.418110e+05</td>\n",
       "      <td>1.707520e+07</td>\n",
       "    </tr>\n",
       "    <tr>\n",
       "      <th>Pop. Density (per sq. mi.)</th>\n",
       "      <td>227.0</td>\n",
       "      <td>3.790471e+02</td>\n",
       "      <td>1.660186e+03</td>\n",
       "      <td>0.000</td>\n",
       "      <td>29.15000</td>\n",
       "      <td>78.800</td>\n",
       "      <td>1.901500e+02</td>\n",
       "      <td>1.627150e+04</td>\n",
       "    </tr>\n",
       "    <tr>\n",
       "      <th>Coastline (coast/area ratio)</th>\n",
       "      <td>227.0</td>\n",
       "      <td>2.116533e+01</td>\n",
       "      <td>7.228686e+01</td>\n",
       "      <td>0.000</td>\n",
       "      <td>0.10000</td>\n",
       "      <td>0.730</td>\n",
       "      <td>1.034500e+01</td>\n",
       "      <td>8.706600e+02</td>\n",
       "    </tr>\n",
       "    <tr>\n",
       "      <th>Net migration</th>\n",
       "      <td>224.0</td>\n",
       "      <td>3.812500e-02</td>\n",
       "      <td>4.889269e+00</td>\n",
       "      <td>-20.990</td>\n",
       "      <td>-0.92750</td>\n",
       "      <td>0.000</td>\n",
       "      <td>9.975000e-01</td>\n",
       "      <td>2.306000e+01</td>\n",
       "    </tr>\n",
       "    <tr>\n",
       "      <th>Infant mortality (per 1000 births)</th>\n",
       "      <td>224.0</td>\n",
       "      <td>3.550696e+01</td>\n",
       "      <td>3.538990e+01</td>\n",
       "      <td>2.290</td>\n",
       "      <td>8.15000</td>\n",
       "      <td>21.000</td>\n",
       "      <td>5.570500e+01</td>\n",
       "      <td>1.911900e+02</td>\n",
       "    </tr>\n",
       "    <tr>\n",
       "      <th>GDP ($ per capita)</th>\n",
       "      <td>226.0</td>\n",
       "      <td>9.689823e+03</td>\n",
       "      <td>1.004914e+04</td>\n",
       "      <td>500.000</td>\n",
       "      <td>1900.00000</td>\n",
       "      <td>5550.000</td>\n",
       "      <td>1.570000e+04</td>\n",
       "      <td>5.510000e+04</td>\n",
       "    </tr>\n",
       "    <tr>\n",
       "      <th>Literacy (%)</th>\n",
       "      <td>209.0</td>\n",
       "      <td>8.283828e+01</td>\n",
       "      <td>1.972217e+01</td>\n",
       "      <td>17.600</td>\n",
       "      <td>70.60000</td>\n",
       "      <td>92.500</td>\n",
       "      <td>9.800000e+01</td>\n",
       "      <td>1.000000e+02</td>\n",
       "    </tr>\n",
       "    <tr>\n",
       "      <th>Phones (per 1000)</th>\n",
       "      <td>223.0</td>\n",
       "      <td>2.360614e+02</td>\n",
       "      <td>2.279918e+02</td>\n",
       "      <td>0.200</td>\n",
       "      <td>37.80000</td>\n",
       "      <td>176.200</td>\n",
       "      <td>3.896500e+02</td>\n",
       "      <td>1.035600e+03</td>\n",
       "    </tr>\n",
       "    <tr>\n",
       "      <th>Arable (%)</th>\n",
       "      <td>225.0</td>\n",
       "      <td>1.379711e+01</td>\n",
       "      <td>1.304040e+01</td>\n",
       "      <td>0.000</td>\n",
       "      <td>3.22000</td>\n",
       "      <td>10.420</td>\n",
       "      <td>2.000000e+01</td>\n",
       "      <td>6.211000e+01</td>\n",
       "    </tr>\n",
       "    <tr>\n",
       "      <th>Crops (%)</th>\n",
       "      <td>225.0</td>\n",
       "      <td>4.564222e+00</td>\n",
       "      <td>8.361470e+00</td>\n",
       "      <td>0.000</td>\n",
       "      <td>0.19000</td>\n",
       "      <td>1.030</td>\n",
       "      <td>4.440000e+00</td>\n",
       "      <td>5.068000e+01</td>\n",
       "    </tr>\n",
       "    <tr>\n",
       "      <th>Other (%)</th>\n",
       "      <td>225.0</td>\n",
       "      <td>8.163831e+01</td>\n",
       "      <td>1.614083e+01</td>\n",
       "      <td>33.330</td>\n",
       "      <td>71.65000</td>\n",
       "      <td>85.700</td>\n",
       "      <td>9.544000e+01</td>\n",
       "      <td>1.000000e+02</td>\n",
       "    </tr>\n",
       "    <tr>\n",
       "      <th>Climate</th>\n",
       "      <td>205.0</td>\n",
       "      <td>2.139024e+00</td>\n",
       "      <td>6.993968e-01</td>\n",
       "      <td>1.000</td>\n",
       "      <td>2.00000</td>\n",
       "      <td>2.000</td>\n",
       "      <td>3.000000e+00</td>\n",
       "      <td>4.000000e+00</td>\n",
       "    </tr>\n",
       "    <tr>\n",
       "      <th>Birthrate</th>\n",
       "      <td>224.0</td>\n",
       "      <td>2.211473e+01</td>\n",
       "      <td>1.117672e+01</td>\n",
       "      <td>7.290</td>\n",
       "      <td>12.67250</td>\n",
       "      <td>18.790</td>\n",
       "      <td>2.982000e+01</td>\n",
       "      <td>5.073000e+01</td>\n",
       "    </tr>\n",
       "    <tr>\n",
       "      <th>Deathrate</th>\n",
       "      <td>223.0</td>\n",
       "      <td>9.241345e+00</td>\n",
       "      <td>4.990026e+00</td>\n",
       "      <td>2.290</td>\n",
       "      <td>5.91000</td>\n",
       "      <td>7.840</td>\n",
       "      <td>1.060500e+01</td>\n",
       "      <td>2.974000e+01</td>\n",
       "    </tr>\n",
       "    <tr>\n",
       "      <th>Agriculture</th>\n",
       "      <td>212.0</td>\n",
       "      <td>1.508443e-01</td>\n",
       "      <td>1.467980e-01</td>\n",
       "      <td>0.000</td>\n",
       "      <td>0.03775</td>\n",
       "      <td>0.099</td>\n",
       "      <td>2.210000e-01</td>\n",
       "      <td>7.690000e-01</td>\n",
       "    </tr>\n",
       "    <tr>\n",
       "      <th>Industry</th>\n",
       "      <td>211.0</td>\n",
       "      <td>2.827109e-01</td>\n",
       "      <td>1.382722e-01</td>\n",
       "      <td>0.020</td>\n",
       "      <td>0.19300</td>\n",
       "      <td>0.272</td>\n",
       "      <td>3.410000e-01</td>\n",
       "      <td>9.060000e-01</td>\n",
       "    </tr>\n",
       "    <tr>\n",
       "      <th>Service</th>\n",
       "      <td>212.0</td>\n",
       "      <td>5.652830e-01</td>\n",
       "      <td>1.658410e-01</td>\n",
       "      <td>0.062</td>\n",
       "      <td>0.42925</td>\n",
       "      <td>0.571</td>\n",
       "      <td>6.785000e-01</td>\n",
       "      <td>9.540000e-01</td>\n",
       "    </tr>\n",
       "  </tbody>\n",
       "</table>\n",
       "</div>"
      ],
      "text/plain": [
       "                                    count          mean           std  \\\n",
       "Population                          227.0  2.874028e+07  1.178913e+08   \n",
       "Area (sq. mi.)                      227.0  5.982270e+05  1.790282e+06   \n",
       "Pop. Density (per sq. mi.)          227.0  3.790471e+02  1.660186e+03   \n",
       "Coastline (coast/area ratio)        227.0  2.116533e+01  7.228686e+01   \n",
       "Net migration                       224.0  3.812500e-02  4.889269e+00   \n",
       "Infant mortality (per 1000 births)  224.0  3.550696e+01  3.538990e+01   \n",
       "GDP ($ per capita)                  226.0  9.689823e+03  1.004914e+04   \n",
       "Literacy (%)                        209.0  8.283828e+01  1.972217e+01   \n",
       "Phones (per 1000)                   223.0  2.360614e+02  2.279918e+02   \n",
       "Arable (%)                          225.0  1.379711e+01  1.304040e+01   \n",
       "Crops (%)                           225.0  4.564222e+00  8.361470e+00   \n",
       "Other (%)                           225.0  8.163831e+01  1.614083e+01   \n",
       "Climate                             205.0  2.139024e+00  6.993968e-01   \n",
       "Birthrate                           224.0  2.211473e+01  1.117672e+01   \n",
       "Deathrate                           223.0  9.241345e+00  4.990026e+00   \n",
       "Agriculture                         212.0  1.508443e-01  1.467980e-01   \n",
       "Industry                            211.0  2.827109e-01  1.382722e-01   \n",
       "Service                             212.0  5.652830e-01  1.658410e-01   \n",
       "\n",
       "                                         min           25%          50%  \\\n",
       "Population                          7026.000  437624.00000  4786994.000   \n",
       "Area (sq. mi.)                         2.000    4647.50000    86600.000   \n",
       "Pop. Density (per sq. mi.)             0.000      29.15000       78.800   \n",
       "Coastline (coast/area ratio)           0.000       0.10000        0.730   \n",
       "Net migration                        -20.990      -0.92750        0.000   \n",
       "Infant mortality (per 1000 births)     2.290       8.15000       21.000   \n",
       "GDP ($ per capita)                   500.000    1900.00000     5550.000   \n",
       "Literacy (%)                          17.600      70.60000       92.500   \n",
       "Phones (per 1000)                      0.200      37.80000      176.200   \n",
       "Arable (%)                             0.000       3.22000       10.420   \n",
       "Crops (%)                              0.000       0.19000        1.030   \n",
       "Other (%)                             33.330      71.65000       85.700   \n",
       "Climate                                1.000       2.00000        2.000   \n",
       "Birthrate                              7.290      12.67250       18.790   \n",
       "Deathrate                              2.290       5.91000        7.840   \n",
       "Agriculture                            0.000       0.03775        0.099   \n",
       "Industry                               0.020       0.19300        0.272   \n",
       "Service                                0.062       0.42925        0.571   \n",
       "\n",
       "                                             75%           max  \n",
       "Population                          1.749777e+07  1.313974e+09  \n",
       "Area (sq. mi.)                      4.418110e+05  1.707520e+07  \n",
       "Pop. Density (per sq. mi.)          1.901500e+02  1.627150e+04  \n",
       "Coastline (coast/area ratio)        1.034500e+01  8.706600e+02  \n",
       "Net migration                       9.975000e-01  2.306000e+01  \n",
       "Infant mortality (per 1000 births)  5.570500e+01  1.911900e+02  \n",
       "GDP ($ per capita)                  1.570000e+04  5.510000e+04  \n",
       "Literacy (%)                        9.800000e+01  1.000000e+02  \n",
       "Phones (per 1000)                   3.896500e+02  1.035600e+03  \n",
       "Arable (%)                          2.000000e+01  6.211000e+01  \n",
       "Crops (%)                           4.440000e+00  5.068000e+01  \n",
       "Other (%)                           9.544000e+01  1.000000e+02  \n",
       "Climate                             3.000000e+00  4.000000e+00  \n",
       "Birthrate                           2.982000e+01  5.073000e+01  \n",
       "Deathrate                           1.060500e+01  2.974000e+01  \n",
       "Agriculture                         2.210000e-01  7.690000e-01  \n",
       "Industry                            3.410000e-01  9.060000e-01  \n",
       "Service                             6.785000e-01  9.540000e-01  "
      ]
     },
     "execution_count": 62,
     "metadata": {},
     "output_type": "execute_result"
    }
   ],
   "source": [
    "dados.describe().transpose()"
   ]
  },
  {
   "cell_type": "markdown",
   "metadata": {},
   "source": [
    "Da tabela de estatisticas sumárias, verifica-se que para as variáveis Climate e Service a média está próxima a mediana. Enquanto que para as variáveis Literacy (%), Industry e Agriculture há uma grande diferença entre média e mediana. Logo, uma estratégia a ser utilizada para lidar com dados faltantes é substituir o valor nulo pela média para as demais nas variáveis Climate e Service, enquanto que para as demais substitui-se o valor nulo pela mediana. "
   ]
  },
  {
   "cell_type": "code",
   "execution_count": 63,
   "metadata": {},
   "outputs": [],
   "source": [
    "dados[\"Climate\"].fillna(dados[\"Climate\"].mean(),inplace=True)\n",
    "\n",
    "dados[\"Service\"].fillna(dados[\"Service\"].mean(),inplace=True)\n",
    "\n",
    "listavarvalornulo= [\"Literacy (%)\",\n",
    "                    \"Industry\",\n",
    "                    \"Agriculture\",\n",
    "                    \"Infant mortality (per 1000 births)\",\n",
    "                    \"GDP ($ per capita)\",\n",
    "                    \"Phones (per 1000)\",\n",
    "                    \"Net migration\",\n",
    "                    \"Literacy (%)\",\n",
    "                    \"Phones (per 1000)\",\n",
    "                    \"Arable (%)\",\n",
    "                    \"Crops (%)\",\n",
    "                    \"Other (%)\",\n",
    "                    \"Birthrate\",\n",
    "                    \"Deathrate\",\n",
    "                    \"Agriculture\",\n",
    "                    \"Industry\"]\n",
    "\n",
    "for i in listavarvalornulo: \n",
    "    dados[i].fillna(dados[i].median(),inplace=True)"
   ]
  },
  {
   "cell_type": "markdown",
   "metadata": {},
   "source": [
    "# Análise Exploratória\n",
    "\n",
    "Após o pré processamento dos dados, pode-se realizar uma breve análise exploratória do conjunto de dados. "
   ]
  },
  {
   "cell_type": "code",
   "execution_count": 64,
   "metadata": {},
   "outputs": [],
   "source": [
    "dadosdeinteresse=dados"
   ]
  },
  {
   "cell_type": "code",
   "execution_count": 28,
   "metadata": {},
   "outputs": [
    {
     "data": {
      "image/png": "[encoded data removed]",
      "text/plain": [
       "<Figure size 1440x1080 with 18 Axes>"
      ]
     },
     "metadata": {
      "needs_background": "light"
     },
     "output_type": "display_data"
    }
   ],
   "source": [
    "dadosdeinteresse.shape\n",
    "fig,ax=plt.subplots(6,3,figsize=(20,15))\n",
    "ax=ax.flatten()\n",
    "plt.suptitle('Histograma das variáveis',fontsize=6)\n",
    "for i, dado in enumerate(dadosdeinteresse.drop(\"Country\",axis=1).columns):\n",
    "    sns.histplot(dadosdeinteresse[dado],ax=ax[i],kde=True)\n",
    "    ax[i].set_title(f\"Histograma - {dado}\")\n",
    "\n",
    "plt.tight_layout()\n",
    "plt.show()"
   ]
  },
  {
   "cell_type": "markdown",
   "metadata": {},
   "source": [
    "Dos histogramas, verifica-se que a população dos países se concentram no intervalo de até 0.2 * 10^9, porém há presença de país com população de mais de 1.2 * 10^9. A mortalidade infantil se concentra entre 0 a 25 mortes por 1000 nascimentos, grande parte deles possuem taxa de alfabetização por volta de 90%, há observações que quase todas as pessoas possuem telefone, e países que possuem mais de 80% do PIB vindo da agricultura. Além disso, nota-se uma grande discrepância entre os países em relação ao PIB per capita, com alguns possuindo PIB per capita próximo a 0 e outros próximos a 5000. "
   ]
  },
  {
   "cell_type": "markdown",
   "metadata": {},
   "source": [
    "Após a construção dos histogramas, há o interesse em estudar a relação entre as variáveis quantitativas. O estudo entre as variáveis pode ser feito através da matriz de correlação. O coeficiente de correlação varia entre -1(variáveis fortemente relacionadas negativamente) e 1(variáveis fortemente relacionadas negativamente), porém sendo importante frisar que não há uma relação de causa e efeito na correlação. Tem-se então a seguinte matriz de correlação: "
   ]
  },
  {
   "cell_type": "code",
   "execution_count": 65,
   "metadata": {},
   "outputs": [
    {
     "data": {
      "text/plain": [
       "<matplotlib.axes._subplots.AxesSubplot at 0x1b464ef4048>"
      ]
     },
     "execution_count": 65,
     "metadata": {},
     "output_type": "execute_result"
    },
    {
     "data": {
      "image/png": "[encoded data removed]",
      "text/plain": [
       "<Figure size 1440x360 with 2 Axes>"
      ]
     },
     "metadata": {
      "needs_background": "light"
     },
     "output_type": "display_data"
    }
   ],
   "source": [
    "correlacao=dadosdeinteresse.corr()\n",
    "plt.figure(figsize=(20,5))\n",
    "sns.heatmap(correlacao, annot = True,fmt=\".3f\", linewidths=.6)\n"
   ]
  },
  {
   "cell_type": "markdown",
   "metadata": {},
   "source": [
    "Da matriz de correlação observa-se que:\n",
    "\n",
    "     - O nível de agricultura está fortemente relacionado com a mortalidade infantil e taxa de nascimento do país estão \n",
    "    fortemente relacionados. Enquanto que serviço e mortalidade infantil estão relacionados de forma moderada de forma\n",
    "    inversa.\n",
    "     - A taxa de mortalidade infantil está fortemente relacionada com taxa de nascimento.\n",
    "     - A taxa de nascimento está fortemente relacionada de maneira inversa com a taxa de alfabetização e número de telefones por 1000 habitantes.\n",
    "     - A mortalidade infantil está relacionada de forma moderada com taxa de mortalidade."
   ]
  },
  {
   "cell_type": "markdown",
   "metadata": {},
   "source": [
    "# Construção do modelo\n",
    "\n",
    "Conhecendo os dados e a relação entre as variáveis, deve-se então construir o modelo de KMeans. Nesse modelo não supervisionado, deve-se primeiro encontrar o valor de K que minimmize a média da inércia(proximidade entre os pontos em relação aos centróides do cluster). É interessa comentar que como o KMeans leva-se em consideração a distância média entre os pontos, tem-se que padronizar os dados, para que as variáveis possuem média 0 e variância 1. Visualiza-se então a média da inércia por valor k de cluster através do seguinte gráfico: "
   ]
  },
  {
   "cell_type": "code",
   "execution_count": 66,
   "metadata": {},
   "outputs": [],
   "source": [
    "dadosdeinteressecopia=dadosdeinteresse.copy()\n",
    "dadosdeinteressecopia=dadosdeinteressecopia.set_index('Country')\n",
    "dadosdeinteressecopia=(dadosdeinteressecopia-dadosdeinteresse.mean())/dadosdeinteressecopia.std()"
   ]
  },
  {
   "cell_type": "code",
   "execution_count": 67,
   "metadata": {},
   "outputs": [
    {
     "name": "stderr",
     "output_type": "stream",
     "text": [
      "C:\\Users\\j2184\\anaconda3\\lib\\site-packages\\sklearn\\cluster\\_kmeans.py:882: UserWarning:\n",
      "\n",
      "KMeans is known to have a memory leak on Windows with MKL, when there are less chunks than available threads. You can avoid it by setting the environment variable OMP_NUM_THREADS=1.\n",
      "\n"
     ]
    }
   ],
   "source": [
    "k = []\n",
    "valorinercia= []\n",
    "for i in range(1,10):\n",
    "    kmeans=KMeans(n_clusters=i,init='k-means++')\n",
    "    kmeans.fit(dadosdeinteressecopia)\n",
    "    k.append(i)\n",
    "    valorinercia.append(kmeans.inertia_)"
   ]
  },
  {
   "cell_type": "code",
   "execution_count": 68,
   "metadata": {},
   "outputs": [
    {
     "data": {
      "text/plain": [
       "Text(0.5, 1.0, 'Valor da Inércia pelo K Clusters - Método do Cotovelo')"
      ]
     },
     "execution_count": 68,
     "metadata": {},
     "output_type": "execute_result"
    },
    {
     "data": {
      "image/png": "[encoded data removed]",
      "text/plain": [
       "<Figure size 1080x360 with 1 Axes>"
      ]
     },
     "metadata": {
      "needs_background": "light"
     },
     "output_type": "display_data"
    }
   ],
   "source": [
    "plt.figure(figsize=(15,5))\n",
    "plt.plot(k,valorinercia,marker='o')\n",
    "plt.xlabel(\"Clusters\")\n",
    "plt.ylabel(\"Valor Inércia\")\n",
    "plt.title(\"Valor da Inércia pelo K Clusters - Método do Cotovelo\")"
   ]
  },
  {
   "cell_type": "markdown",
   "metadata": {},
   "source": [
    "Pelo método do cotovelo, deve-se escolher o valor K quando o valor da inércia não se altera de forma significativa ao alterar o valor de K. Analisando o gráfico, verifica-se que o melhor valor de K é 4 ou 5, pois não se altera o valor de K de forma significativa. Com essa dúvida, pode-se obter outra métrica para indentificar se deve-se utilizar 4 ou 5 clusters, a métrica escolhida é o método da silhueta, que leva em consideração a distâ intra ou inter clusters, em que valores maiores são melhores."
   ]
  },
  {
   "cell_type": "code",
   "execution_count": 69,
   "metadata": {},
   "outputs": [
    {
     "name": "stdout",
     "output_type": "stream",
     "text": [
      "4 Clusters tem 0.17482430845952168 de coeficiente silhueta\n",
      "5 Clusters tem 0.17689849803131594 de coeficiente silhueta\n"
     ]
    }
   ],
   "source": [
    "for i in [4,5]:\n",
    "    kmeans=KMeans(n_clusters=i,init='k-means++')\n",
    "    kmeans.fit(dadosdeinteressecopia)\n",
    "    silhouette_avg = silhouette_score(dadosdeinteressecopia, kmeans.labels_)\n",
    "    print(i,\"Clusters tem\",silhouette_avg,\"de coeficiente silhueta\")"
   ]
  },
  {
   "cell_type": "markdown",
   "metadata": {},
   "source": [
    "Observa-se que o valor do coeficiente de silhueta do cluster 4 e cluster 5 é relativamente próximo, não havendo grandes diferenças entre eles. Logo, por motivo de simplicidade, o valor K de cluster que será escolhido é 4. Ajustamos então um modelo de KMeans para os dados padronizados com 4 clusters. E obtemos o cluster por observação."
   ]
  },
  {
   "cell_type": "code",
   "execution_count": 70,
   "metadata": {},
   "outputs": [
    {
     "data": {
      "text/plain": [
       "KMeans(n_clusters=4)"
      ]
     },
     "execution_count": 70,
     "metadata": {},
     "output_type": "execute_result"
    }
   ],
   "source": [
    "kmeans=KMeans(n_clusters=4,init='k-means++')\n",
    "kmeans.fit(dadosdeinteressecopia)"
   ]
  },
  {
   "cell_type": "code",
   "execution_count": 71,
   "metadata": {},
   "outputs": [
    {
     "data": {
      "text/html": [
       "<div>\n",
       "<style scoped>\n",
       "    .dataframe tbody tr th:only-of-type {\n",
       "        vertical-align: middle;\n",
       "    }\n",
       "\n",
       "    .dataframe tbody tr th {\n",
       "        vertical-align: top;\n",
       "    }\n",
       "\n",
       "    .dataframe thead th {\n",
       "        text-align: right;\n",
       "    }\n",
       "</style>\n",
       "<table border=\"1\" class=\"dataframe\">\n",
       "  <thead>\n",
       "    <tr style=\"text-align: right;\">\n",
       "      <th></th>\n",
       "      <th>Country</th>\n",
       "      <th>Population</th>\n",
       "      <th>Area (sq. mi.)</th>\n",
       "      <th>Pop. Density (per sq. mi.)</th>\n",
       "      <th>Coastline (coast/area ratio)</th>\n",
       "      <th>Net migration</th>\n",
       "      <th>Infant mortality (per 1000 births)</th>\n",
       "      <th>GDP ($ per capita)</th>\n",
       "      <th>Literacy (%)</th>\n",
       "      <th>Phones (per 1000)</th>\n",
       "      <th>Arable (%)</th>\n",
       "      <th>Crops (%)</th>\n",
       "      <th>Other (%)</th>\n",
       "      <th>Climate</th>\n",
       "      <th>Birthrate</th>\n",
       "      <th>Deathrate</th>\n",
       "      <th>Agriculture</th>\n",
       "      <th>Industry</th>\n",
       "      <th>Service</th>\n",
       "      <th>Cluster</th>\n",
       "    </tr>\n",
       "  </thead>\n",
       "  <tbody>\n",
       "    <tr>\n",
       "      <th>0</th>\n",
       "      <td>Afghanistan</td>\n",
       "      <td>31056997</td>\n",
       "      <td>647500</td>\n",
       "      <td>48.0</td>\n",
       "      <td>0.00</td>\n",
       "      <td>23.06</td>\n",
       "      <td>163.07</td>\n",
       "      <td>700.0</td>\n",
       "      <td>36.0</td>\n",
       "      <td>3.2</td>\n",
       "      <td>12.13</td>\n",
       "      <td>0.22</td>\n",
       "      <td>87.65</td>\n",
       "      <td>1.0</td>\n",
       "      <td>46.60</td>\n",
       "      <td>20.34</td>\n",
       "      <td>0.380</td>\n",
       "      <td>0.240</td>\n",
       "      <td>0.380000</td>\n",
       "      <td>3</td>\n",
       "    </tr>\n",
       "    <tr>\n",
       "      <th>1</th>\n",
       "      <td>Albania</td>\n",
       "      <td>3581655</td>\n",
       "      <td>28748</td>\n",
       "      <td>124.6</td>\n",
       "      <td>1.26</td>\n",
       "      <td>-4.93</td>\n",
       "      <td>21.52</td>\n",
       "      <td>4500.0</td>\n",
       "      <td>86.5</td>\n",
       "      <td>71.2</td>\n",
       "      <td>21.09</td>\n",
       "      <td>4.42</td>\n",
       "      <td>74.49</td>\n",
       "      <td>3.0</td>\n",
       "      <td>15.11</td>\n",
       "      <td>5.22</td>\n",
       "      <td>0.232</td>\n",
       "      <td>0.188</td>\n",
       "      <td>0.579000</td>\n",
       "      <td>2</td>\n",
       "    </tr>\n",
       "    <tr>\n",
       "      <th>2</th>\n",
       "      <td>Algeria</td>\n",
       "      <td>32930091</td>\n",
       "      <td>2381740</td>\n",
       "      <td>13.8</td>\n",
       "      <td>0.04</td>\n",
       "      <td>-0.39</td>\n",
       "      <td>31.00</td>\n",
       "      <td>6000.0</td>\n",
       "      <td>70.0</td>\n",
       "      <td>78.1</td>\n",
       "      <td>3.22</td>\n",
       "      <td>0.25</td>\n",
       "      <td>96.53</td>\n",
       "      <td>1.0</td>\n",
       "      <td>17.14</td>\n",
       "      <td>4.61</td>\n",
       "      <td>0.101</td>\n",
       "      <td>0.600</td>\n",
       "      <td>0.298000</td>\n",
       "      <td>0</td>\n",
       "    </tr>\n",
       "    <tr>\n",
       "      <th>3</th>\n",
       "      <td>American Samoa</td>\n",
       "      <td>57794</td>\n",
       "      <td>199</td>\n",
       "      <td>290.4</td>\n",
       "      <td>58.29</td>\n",
       "      <td>-20.71</td>\n",
       "      <td>9.27</td>\n",
       "      <td>8000.0</td>\n",
       "      <td>97.0</td>\n",
       "      <td>259.5</td>\n",
       "      <td>10.00</td>\n",
       "      <td>15.00</td>\n",
       "      <td>75.00</td>\n",
       "      <td>2.0</td>\n",
       "      <td>22.46</td>\n",
       "      <td>3.27</td>\n",
       "      <td>0.099</td>\n",
       "      <td>0.272</td>\n",
       "      <td>0.565283</td>\n",
       "      <td>2</td>\n",
       "    </tr>\n",
       "    <tr>\n",
       "      <th>4</th>\n",
       "      <td>Andorra</td>\n",
       "      <td>71201</td>\n",
       "      <td>468</td>\n",
       "      <td>152.1</td>\n",
       "      <td>0.00</td>\n",
       "      <td>6.60</td>\n",
       "      <td>4.05</td>\n",
       "      <td>19000.0</td>\n",
       "      <td>100.0</td>\n",
       "      <td>497.2</td>\n",
       "      <td>2.22</td>\n",
       "      <td>0.00</td>\n",
       "      <td>97.78</td>\n",
       "      <td>3.0</td>\n",
       "      <td>8.71</td>\n",
       "      <td>6.25</td>\n",
       "      <td>0.099</td>\n",
       "      <td>0.272</td>\n",
       "      <td>0.565283</td>\n",
       "      <td>1</td>\n",
       "    </tr>\n",
       "    <tr>\n",
       "      <th>...</th>\n",
       "      <td>...</td>\n",
       "      <td>...</td>\n",
       "      <td>...</td>\n",
       "      <td>...</td>\n",
       "      <td>...</td>\n",
       "      <td>...</td>\n",
       "      <td>...</td>\n",
       "      <td>...</td>\n",
       "      <td>...</td>\n",
       "      <td>...</td>\n",
       "      <td>...</td>\n",
       "      <td>...</td>\n",
       "      <td>...</td>\n",
       "      <td>...</td>\n",
       "      <td>...</td>\n",
       "      <td>...</td>\n",
       "      <td>...</td>\n",
       "      <td>...</td>\n",
       "      <td>...</td>\n",
       "      <td>...</td>\n",
       "    </tr>\n",
       "    <tr>\n",
       "      <th>222</th>\n",
       "      <td>West Bank</td>\n",
       "      <td>2460492</td>\n",
       "      <td>5860</td>\n",
       "      <td>419.9</td>\n",
       "      <td>0.00</td>\n",
       "      <td>2.98</td>\n",
       "      <td>19.62</td>\n",
       "      <td>800.0</td>\n",
       "      <td>92.5</td>\n",
       "      <td>145.2</td>\n",
       "      <td>16.90</td>\n",
       "      <td>18.97</td>\n",
       "      <td>64.13</td>\n",
       "      <td>3.0</td>\n",
       "      <td>31.67</td>\n",
       "      <td>3.92</td>\n",
       "      <td>0.090</td>\n",
       "      <td>0.280</td>\n",
       "      <td>0.630000</td>\n",
       "      <td>2</td>\n",
       "    </tr>\n",
       "    <tr>\n",
       "      <th>223</th>\n",
       "      <td>Western Sahara</td>\n",
       "      <td>273008</td>\n",
       "      <td>266000</td>\n",
       "      <td>1.0</td>\n",
       "      <td>0.42</td>\n",
       "      <td>0.00</td>\n",
       "      <td>21.00</td>\n",
       "      <td>5550.0</td>\n",
       "      <td>92.5</td>\n",
       "      <td>176.2</td>\n",
       "      <td>0.02</td>\n",
       "      <td>0.00</td>\n",
       "      <td>99.98</td>\n",
       "      <td>1.0</td>\n",
       "      <td>18.79</td>\n",
       "      <td>7.84</td>\n",
       "      <td>0.099</td>\n",
       "      <td>0.272</td>\n",
       "      <td>0.400000</td>\n",
       "      <td>0</td>\n",
       "    </tr>\n",
       "    <tr>\n",
       "      <th>224</th>\n",
       "      <td>Yemen</td>\n",
       "      <td>21456188</td>\n",
       "      <td>527970</td>\n",
       "      <td>40.6</td>\n",
       "      <td>0.36</td>\n",
       "      <td>0.00</td>\n",
       "      <td>61.50</td>\n",
       "      <td>800.0</td>\n",
       "      <td>50.2</td>\n",
       "      <td>37.2</td>\n",
       "      <td>2.78</td>\n",
       "      <td>0.24</td>\n",
       "      <td>96.98</td>\n",
       "      <td>1.0</td>\n",
       "      <td>42.89</td>\n",
       "      <td>8.30</td>\n",
       "      <td>0.135</td>\n",
       "      <td>0.472</td>\n",
       "      <td>0.393000</td>\n",
       "      <td>0</td>\n",
       "    </tr>\n",
       "    <tr>\n",
       "      <th>225</th>\n",
       "      <td>Zambia</td>\n",
       "      <td>11502010</td>\n",
       "      <td>752614</td>\n",
       "      <td>15.3</td>\n",
       "      <td>0.00</td>\n",
       "      <td>0.00</td>\n",
       "      <td>88.29</td>\n",
       "      <td>800.0</td>\n",
       "      <td>80.6</td>\n",
       "      <td>8.2</td>\n",
       "      <td>7.08</td>\n",
       "      <td>0.03</td>\n",
       "      <td>92.90</td>\n",
       "      <td>2.0</td>\n",
       "      <td>41.00</td>\n",
       "      <td>19.93</td>\n",
       "      <td>0.220</td>\n",
       "      <td>0.290</td>\n",
       "      <td>0.489000</td>\n",
       "      <td>3</td>\n",
       "    </tr>\n",
       "    <tr>\n",
       "      <th>226</th>\n",
       "      <td>Zimbabwe</td>\n",
       "      <td>12236805</td>\n",
       "      <td>390580</td>\n",
       "      <td>31.3</td>\n",
       "      <td>0.00</td>\n",
       "      <td>0.00</td>\n",
       "      <td>67.69</td>\n",
       "      <td>1900.0</td>\n",
       "      <td>90.7</td>\n",
       "      <td>26.8</td>\n",
       "      <td>8.32</td>\n",
       "      <td>0.34</td>\n",
       "      <td>91.34</td>\n",
       "      <td>2.0</td>\n",
       "      <td>28.01</td>\n",
       "      <td>21.84</td>\n",
       "      <td>0.179</td>\n",
       "      <td>0.243</td>\n",
       "      <td>0.579000</td>\n",
       "      <td>3</td>\n",
       "    </tr>\n",
       "  </tbody>\n",
       "</table>\n",
       "<p>227 rows × 20 columns</p>\n",
       "</div>"
      ],
      "text/plain": [
       "             Country  Population  Area (sq. mi.)  Pop. Density (per sq. mi.)  \\\n",
       "0       Afghanistan     31056997          647500                        48.0   \n",
       "1           Albania      3581655           28748                       124.6   \n",
       "2           Algeria     32930091         2381740                        13.8   \n",
       "3    American Samoa        57794             199                       290.4   \n",
       "4           Andorra        71201             468                       152.1   \n",
       "..               ...         ...             ...                         ...   \n",
       "222       West Bank      2460492            5860                       419.9   \n",
       "223  Western Sahara       273008          266000                         1.0   \n",
       "224           Yemen     21456188          527970                        40.6   \n",
       "225          Zambia     11502010          752614                        15.3   \n",
       "226        Zimbabwe     12236805          390580                        31.3   \n",
       "\n",
       "     Coastline (coast/area ratio)  Net migration  \\\n",
       "0                            0.00          23.06   \n",
       "1                            1.26          -4.93   \n",
       "2                            0.04          -0.39   \n",
       "3                           58.29         -20.71   \n",
       "4                            0.00           6.60   \n",
       "..                            ...            ...   \n",
       "222                          0.00           2.98   \n",
       "223                          0.42           0.00   \n",
       "224                          0.36           0.00   \n",
       "225                          0.00           0.00   \n",
       "226                          0.00           0.00   \n",
       "\n",
       "     Infant mortality (per 1000 births)  GDP ($ per capita)  Literacy (%)  \\\n",
       "0                                163.07               700.0          36.0   \n",
       "1                                 21.52              4500.0          86.5   \n",
       "2                                 31.00              6000.0          70.0   \n",
       "3                                  9.27              8000.0          97.0   \n",
       "4                                  4.05             19000.0         100.0   \n",
       "..                                  ...                 ...           ...   \n",
       "222                               19.62               800.0          92.5   \n",
       "223                               21.00              5550.0          92.5   \n",
       "224                               61.50               800.0          50.2   \n",
       "225                               88.29               800.0          80.6   \n",
       "226                               67.69              1900.0          90.7   \n",
       "\n",
       "     Phones (per 1000)  Arable (%)  Crops (%)  Other (%)  Climate  Birthrate  \\\n",
       "0                  3.2       12.13       0.22      87.65      1.0      46.60   \n",
       "1                 71.2       21.09       4.42      74.49      3.0      15.11   \n",
       "2                 78.1        3.22       0.25      96.53      1.0      17.14   \n",
       "3                259.5       10.00      15.00      75.00      2.0      22.46   \n",
       "4                497.2        2.22       0.00      97.78      3.0       8.71   \n",
       "..                 ...         ...        ...        ...      ...        ...   \n",
       "222              145.2       16.90      18.97      64.13      3.0      31.67   \n",
       "223              176.2        0.02       0.00      99.98      1.0      18.79   \n",
       "224               37.2        2.78       0.24      96.98      1.0      42.89   \n",
       "225                8.2        7.08       0.03      92.90      2.0      41.00   \n",
       "226               26.8        8.32       0.34      91.34      2.0      28.01   \n",
       "\n",
       "     Deathrate  Agriculture  Industry   Service  Cluster  \n",
       "0        20.34        0.380     0.240  0.380000        3  \n",
       "1         5.22        0.232     0.188  0.579000        2  \n",
       "2         4.61        0.101     0.600  0.298000        0  \n",
       "3         3.27        0.099     0.272  0.565283        2  \n",
       "4         6.25        0.099     0.272  0.565283        1  \n",
       "..         ...          ...       ...       ...      ...  \n",
       "222       3.92        0.090     0.280  0.630000        2  \n",
       "223       7.84        0.099     0.272  0.400000        0  \n",
       "224       8.30        0.135     0.472  0.393000        0  \n",
       "225      19.93        0.220     0.290  0.489000        3  \n",
       "226      21.84        0.179     0.243  0.579000        3  \n",
       "\n",
       "[227 rows x 20 columns]"
      ]
     },
     "execution_count": 71,
     "metadata": {},
     "output_type": "execute_result"
    }
   ],
   "source": [
    "dadosdeinteressecopia[\"Cluster\"]=kmeans.labels_\n",
    "dadosdeinteresse[\"Cluster\"]=kmeans.labels_\n",
    "\n",
    "dadosdeinteresse"
   ]
  },
  {
   "cell_type": "markdown",
   "metadata": {},
   "source": [
    "Com o cluster por país, realiza-se então a média das variáveis quantitativas por cluster."
   ]
  },
  {
   "cell_type": "code",
   "execution_count": 72,
   "metadata": {},
   "outputs": [
    {
     "data": {
      "text/html": [
       "<div>\n",
       "<style scoped>\n",
       "    .dataframe tbody tr th:only-of-type {\n",
       "        vertical-align: middle;\n",
       "    }\n",
       "\n",
       "    .dataframe tbody tr th {\n",
       "        vertical-align: top;\n",
       "    }\n",
       "\n",
       "    .dataframe thead th {\n",
       "        text-align: right;\n",
       "    }\n",
       "</style>\n",
       "<table border=\"1\" class=\"dataframe\">\n",
       "  <thead>\n",
       "    <tr style=\"text-align: right;\">\n",
       "      <th></th>\n",
       "      <th>Population</th>\n",
       "      <th>Area (sq. mi.)</th>\n",
       "      <th>Pop. Density (per sq. mi.)</th>\n",
       "      <th>Coastline (coast/area ratio)</th>\n",
       "      <th>Net migration</th>\n",
       "      <th>Infant mortality (per 1000 births)</th>\n",
       "      <th>GDP ($ per capita)</th>\n",
       "      <th>Literacy (%)</th>\n",
       "      <th>Phones (per 1000)</th>\n",
       "      <th>Arable (%)</th>\n",
       "      <th>Crops (%)</th>\n",
       "      <th>Other (%)</th>\n",
       "      <th>Climate</th>\n",
       "      <th>Birthrate</th>\n",
       "      <th>Deathrate</th>\n",
       "      <th>Agriculture</th>\n",
       "      <th>Industry</th>\n",
       "      <th>Service</th>\n",
       "    </tr>\n",
       "    <tr>\n",
       "      <th>Cluster</th>\n",
       "      <th></th>\n",
       "      <th></th>\n",
       "      <th></th>\n",
       "      <th></th>\n",
       "      <th></th>\n",
       "      <th></th>\n",
       "      <th></th>\n",
       "      <th></th>\n",
       "      <th></th>\n",
       "      <th></th>\n",
       "      <th></th>\n",
       "      <th></th>\n",
       "      <th></th>\n",
       "      <th></th>\n",
       "      <th></th>\n",
       "      <th></th>\n",
       "      <th></th>\n",
       "      <th></th>\n",
       "    </tr>\n",
       "  </thead>\n",
       "  <tbody>\n",
       "    <tr>\n",
       "      <th>0</th>\n",
       "      <td>3.994222e+07</td>\n",
       "      <td>1.030944e+06</td>\n",
       "      <td>85.658571</td>\n",
       "      <td>9.709714</td>\n",
       "      <td>-0.234143</td>\n",
       "      <td>34.068571</td>\n",
       "      <td>6383.571429</td>\n",
       "      <td>84.390000</td>\n",
       "      <td>143.897143</td>\n",
       "      <td>6.062000</td>\n",
       "      <td>1.876286</td>\n",
       "      <td>92.019429</td>\n",
       "      <td>1.736516</td>\n",
       "      <td>23.209286</td>\n",
       "      <td>7.182429</td>\n",
       "      <td>0.120329</td>\n",
       "      <td>0.356686</td>\n",
       "      <td>0.512853</td>\n",
       "    </tr>\n",
       "    <tr>\n",
       "      <th>1</th>\n",
       "      <td>1.539917e+07</td>\n",
       "      <td>5.027115e+05</td>\n",
       "      <td>980.643750</td>\n",
       "      <td>38.262656</td>\n",
       "      <td>2.493594</td>\n",
       "      <td>7.084219</td>\n",
       "      <td>22265.625000</td>\n",
       "      <td>96.681250</td>\n",
       "      <td>528.382813</td>\n",
       "      <td>13.723750</td>\n",
       "      <td>2.132187</td>\n",
       "      <td>84.099687</td>\n",
       "      <td>2.492645</td>\n",
       "      <td>12.295000</td>\n",
       "      <td>7.964375</td>\n",
       "      <td>0.046641</td>\n",
       "      <td>0.229469</td>\n",
       "      <td>0.717859</td>\n",
       "    </tr>\n",
       "    <tr>\n",
       "      <th>2</th>\n",
       "      <td>3.574871e+07</td>\n",
       "      <td>1.584597e+05</td>\n",
       "      <td>285.759184</td>\n",
       "      <td>33.911020</td>\n",
       "      <td>-3.014694</td>\n",
       "      <td>23.560612</td>\n",
       "      <td>5357.142857</td>\n",
       "      <td>89.757143</td>\n",
       "      <td>183.548980</td>\n",
       "      <td>25.613673</td>\n",
       "      <td>13.296531</td>\n",
       "      <td>61.089796</td>\n",
       "      <td>2.470533</td>\n",
       "      <td>18.823061</td>\n",
       "      <td>7.910816</td>\n",
       "      <td>0.133449</td>\n",
       "      <td>0.284327</td>\n",
       "      <td>0.579624</td>\n",
       "    </tr>\n",
       "    <tr>\n",
       "      <th>3</th>\n",
       "      <td>2.251944e+07</td>\n",
       "      <td>5.384858e+05</td>\n",
       "      <td>74.640909</td>\n",
       "      <td>0.327273</td>\n",
       "      <td>0.296818</td>\n",
       "      <td>91.452273</td>\n",
       "      <td>1388.636364</td>\n",
       "      <td>56.481818</td>\n",
       "      <td>10.529545</td>\n",
       "      <td>12.896818</td>\n",
       "      <td>2.492727</td>\n",
       "      <td>84.610909</td>\n",
       "      <td>1.895843</td>\n",
       "      <td>38.095682</td>\n",
       "      <td>15.728636</td>\n",
       "      <td>0.352659</td>\n",
       "      <td>0.236773</td>\n",
       "      <td>0.410795</td>\n",
       "    </tr>\n",
       "  </tbody>\n",
       "</table>\n",
       "</div>"
      ],
      "text/plain": [
       "           Population  Area (sq. mi.)  Pop. Density (per sq. mi.)  \\\n",
       "Cluster                                                             \n",
       "0        3.994222e+07    1.030944e+06                   85.658571   \n",
       "1        1.539917e+07    5.027115e+05                  980.643750   \n",
       "2        3.574871e+07    1.584597e+05                  285.759184   \n",
       "3        2.251944e+07    5.384858e+05                   74.640909   \n",
       "\n",
       "         Coastline (coast/area ratio)  Net migration  \\\n",
       "Cluster                                                \n",
       "0                            9.709714      -0.234143   \n",
       "1                           38.262656       2.493594   \n",
       "2                           33.911020      -3.014694   \n",
       "3                            0.327273       0.296818   \n",
       "\n",
       "         Infant mortality (per 1000 births)  GDP ($ per capita)  Literacy (%)  \\\n",
       "Cluster                                                                         \n",
       "0                                 34.068571         6383.571429     84.390000   \n",
       "1                                  7.084219        22265.625000     96.681250   \n",
       "2                                 23.560612         5357.142857     89.757143   \n",
       "3                                 91.452273         1388.636364     56.481818   \n",
       "\n",
       "         Phones (per 1000)  Arable (%)  Crops (%)  Other (%)   Climate  \\\n",
       "Cluster                                                                  \n",
       "0               143.897143    6.062000   1.876286  92.019429  1.736516   \n",
       "1               528.382813   13.723750   2.132187  84.099687  2.492645   \n",
       "2               183.548980   25.613673  13.296531  61.089796  2.470533   \n",
       "3                10.529545   12.896818   2.492727  84.610909  1.895843   \n",
       "\n",
       "         Birthrate  Deathrate  Agriculture  Industry   Service  \n",
       "Cluster                                                         \n",
       "0        23.209286   7.182429     0.120329  0.356686  0.512853  \n",
       "1        12.295000   7.964375     0.046641  0.229469  0.717859  \n",
       "2        18.823061   7.910816     0.133449  0.284327  0.579624  \n",
       "3        38.095682  15.728636     0.352659  0.236773  0.410795  "
      ]
     },
     "execution_count": 72,
     "metadata": {},
     "output_type": "execute_result"
    }
   ],
   "source": [
    "dadosdeinteresse.groupby(\"Cluster\").mean()"
   ]
  },
  {
   "cell_type": "markdown",
   "metadata": {},
   "source": [
    "Com os dados das médias das variáveis quantitativas por cluster, tem-se as seguintes características de cada um deles:\n",
    "\n",
    "**Cluster 0**: \n",
    "\n",
    "- Densidade populacional muito alta\n",
    "- Maior renda per capita\n",
    "- Alto nível de alfabetização\n",
    "- Alta quantidade de celulares para cada 1000 habitantes\n",
    "- O valor de clima mais alto\n",
    "- Alto percentual de serviço no PIB\n",
    "\n",
    "**Cluster 1**:\n",
    "\n",
    "- Segunda menor densidade populacional\n",
    "- Alta taxa de mortalidade infantil \n",
    "- Menor nível de alfabetização\n",
    "- Menor quantidade de telefone por 1000 habitantes\n",
    "- Alto nível de nascimento e mortalidade \n",
    "- Alto percentual de agricultura e serviço no PIB\n",
    "\n",
    "**Cluster 2**:\n",
    "\n",
    "- Segunda maior densidade populacional\n",
    "- Grande presença de litoral\n",
    "- Imigração liquida negativa\n",
    "- Segundo menor PIB per capita\n",
    "- Segunda maior taxa de alfabetização e de número de celular por 1000 habitantes\n",
    "- Segunda menor de nascimento\n",
    "- Alto percentual de participação de serviço no PIB\n",
    "\n",
    "**Cluster 3**:\n",
    "\n",
    "- Segunda maior renda per capita\n",
    "- Forte presença da indústria e serviço no PIB\n",
    "- A Menor taxa de mortalidade\n",
    "- Segunda menor taxa de alfabetização e de número de celular por 1000 habitantes\n",
    "- A menor taxa de área cúltivavel"
   ]
  },
  {
   "cell_type": "markdown",
   "metadata": {},
   "source": [
    "Tendo em vista as características por cluster, é possuir o mapa dos países para verificar quais são os países que estão os clusters."
   ]
  },
  {
   "cell_type": "code",
   "execution_count": 79,
   "metadata": {},
   "outputs": [
    {
     "data": {
      "application/vnd.plotly.v1+json": {
       "config": {
        "plotlyServerURL": "https://plot.ly"
       },
       "data": [
        {
         "coloraxis": "coloraxis",
         "geo": "geo",
         "hovertemplate": "Country=%{location}<br>Cluster=%{z}<extra></extra>",
         "locationmode": "country names",
         "locations": [
          "Afghanistan ",
          "Albania ",
          "Algeria ",
          "American Samoa ",
          "Andorra ",
          "Angola ",
          "Anguilla ",
          "Antigua & Barbuda ",
          "Argentina ",
          "Armenia ",
          "Aruba ",
          "Australia ",
          "Austria ",
          "Azerbaijan ",
          "Bahamas. The ",
          "Bahrain ",
          "Bangladesh ",
          "Barbados ",
          "Belarus ",
          "Belgium ",
          "Belize ",
          "Benin ",
          "Bermuda ",
          "Bhutan ",
          "Bolivia ",
          "Bosnia & Herzegovina ",
          "Botswana ",
          "Brazil ",
          "British Virgin Is. ",
          "Brunei ",
          "Bulgaria ",
          "Burkina Faso ",
          "Burma ",
          "Burundi ",
          "Cambodia ",
          "Cameroon ",
          "Canada ",
          "Cape Verde ",
          "Cayman Islands ",
          "Central African Rep. ",
          "Chad ",
          "Chile ",
          "China ",
          "Colombia ",
          "Comoros ",
          "Congo. Dem. Rep. ",
          "Congo. Repub. of the ",
          "Cook Islands ",
          "Costa Rica ",
          "Cote d'Ivoire ",
          "Croatia ",
          "Cuba ",
          "Cyprus ",
          "Czech Republic ",
          "Denmark ",
          "Djibouti ",
          "Dominica ",
          "Dominican Republic ",
          "East Timor ",
          "Ecuador ",
          "Egypt ",
          "El Salvador ",
          "Equatorial Guinea ",
          "Eritrea ",
          "Estonia ",
          "Ethiopia ",
          "Faroe Islands ",
          "Fiji ",
          "Finland ",
          "France ",
          "French Guiana ",
          "French Polynesia ",
          "Gabon ",
          "Gambia. The ",
          "Gaza Strip ",
          "Georgia ",
          "Germany ",
          "Ghana ",
          "Gibraltar ",
          "Greece ",
          "Greenland ",
          "Grenada ",
          "Guadeloupe ",
          "Guam ",
          "Guatemala ",
          "Guernsey ",
          "Guinea ",
          "Guinea-Bissau ",
          "Guyana ",
          "Haiti ",
          "Honduras ",
          "Hong Kong ",
          "Hungary ",
          "Iceland ",
          "India ",
          "Indonesia ",
          "Iran ",
          "Iraq ",
          "Ireland ",
          "Isle of Man ",
          "Israel ",
          "Italy ",
          "Jamaica ",
          "Japan ",
          "Jersey ",
          "Jordan ",
          "Kazakhstan ",
          "Kenya ",
          "Kiribati ",
          "Korea. North ",
          "Korea. South ",
          "Kuwait ",
          "Kyrgyzstan ",
          "Laos ",
          "Latvia ",
          "Lebanon ",
          "Lesotho ",
          "Liberia ",
          "Libya ",
          "Liechtenstein ",
          "Lithuania ",
          "Luxembourg ",
          "Macau ",
          "Macedonia ",
          "Madagascar ",
          "Malawi ",
          "Malaysia ",
          "Maldives ",
          "Mali ",
          "Malta ",
          "Marshall Islands ",
          "Martinique ",
          "Mauritania ",
          "Mauritius ",
          "Mayotte ",
          "Mexico ",
          "Micronesia. Fed. St. ",
          "Moldova ",
          "Monaco ",
          "Mongolia ",
          "Montserrat ",
          "Morocco ",
          "Mozambique ",
          "Namibia ",
          "Nauru ",
          "Nepal ",
          "Netherlands ",
          "Netherlands Antilles ",
          "New Caledonia ",
          "New Zealand ",
          "Nicaragua ",
          "Niger ",
          "Nigeria ",
          "N. Mariana Islands ",
          "Norway ",
          "Oman ",
          "Pakistan ",
          "Palau ",
          "Panama ",
          "Papua New Guinea ",
          "Paraguay ",
          "Peru ",
          "Philippines ",
          "Poland ",
          "Portugal ",
          "Puerto Rico ",
          "Qatar ",
          "Reunion ",
          "Romania ",
          "Russia ",
          "Rwanda ",
          "Saint Helena ",
          "Saint Kitts & Nevis ",
          "Saint Lucia ",
          "St Pierre & Miquelon ",
          "Saint Vincent and the Grenadines ",
          "Samoa ",
          "San Marino ",
          "Sao Tome & Principe ",
          "Saudi Arabia ",
          "Senegal ",
          "Serbia ",
          "Seychelles ",
          "Sierra Leone ",
          "Singapore ",
          "Slovakia ",
          "Slovenia ",
          "Solomon Islands ",
          "Somalia ",
          "South Africa ",
          "Spain ",
          "Sri Lanka ",
          "Sudan ",
          "Suriname ",
          "Swaziland ",
          "Sweden ",
          "Switzerland ",
          "Syria ",
          "Taiwan ",
          "Tajikistan ",
          "Tanzania ",
          "Thailand ",
          "Togo ",
          "Tonga ",
          "Trinidad & Tobago ",
          "Tunisia ",
          "Turkey ",
          "Turkmenistan ",
          "Turks & Caicos Is ",
          "Tuvalu ",
          "Uganda ",
          "Ukraine ",
          "United Arab Emirates ",
          "United Kingdom ",
          "United States ",
          "Uruguay ",
          "Uzbekistan ",
          "Vanuatu ",
          "Venezuela ",
          "Vietnam ",
          "Virgin Islands ",
          "Wallis and Futuna ",
          "West Bank ",
          "Western Sahara ",
          "Yemen ",
          "Zambia ",
          "Zimbabwe "
         ],
         "name": "",
         "type": "choropleth",
         "z": [
          3,
          2,
          0,
          2,
          1,
          3,
          1,
          1,
          0,
          2,
          1,
          1,
          1,
          0,
          1,
          0,
          2,
          1,
          2,
          1,
          0,
          3,
          1,
          3,
          0,
          2,
          0,
          0,
          1,
          0,
          2,
          3,
          3,
          3,
          3,
          3,
          1,
          0,
          1,
          3,
          3,
          0,
          0,
          0,
          2,
          3,
          0,
          2,
          0,
          3,
          1,
          2,
          1,
          2,
          1,
          3,
          2,
          2,
          0,
          0,
          0,
          2,
          0,
          0,
          1,
          3,
          1,
          0,
          1,
          1,
          0,
          1,
          0,
          3,
          2,
          2,
          1,
          3,
          1,
          1,
          0,
          2,
          1,
          1,
          0,
          1,
          3,
          3,
          0,
          3,
          0,
          1,
          2,
          1,
          2,
          0,
          0,
          0,
          1,
          1,
          1,
          1,
          2,
          1,
          1,
          0,
          0,
          3,
          2,
          2,
          1,
          0,
          0,
          3,
          2,
          2,
          3,
          3,
          0,
          1,
          2,
          1,
          1,
          2,
          3,
          3,
          0,
          2,
          3,
          1,
          2,
          1,
          3,
          2,
          0,
          0,
          2,
          2,
          1,
          0,
          0,
          0,
          3,
          0,
          0,
          3,
          1,
          1,
          1,
          1,
          0,
          3,
          3,
          1,
          1,
          0,
          3,
          1,
          0,
          0,
          0,
          0,
          2,
          2,
          1,
          0,
          0,
          1,
          2,
          0,
          3,
          0,
          1,
          2,
          1,
          2,
          2,
          1,
          2,
          0,
          3,
          2,
          0,
          3,
          1,
          2,
          1,
          0,
          3,
          0,
          1,
          2,
          3,
          0,
          3,
          1,
          1,
          0,
          1,
          0,
          3,
          2,
          3,
          2,
          2,
          2,
          2,
          0,
          0,
          0,
          3,
          2,
          0,
          1,
          1,
          1,
          0,
          0,
          0,
          0,
          1,
          2,
          2,
          0,
          0,
          3,
          3
         ]
        }
       ],
       "layout": {
        "coloraxis": {
         "colorbar": {
          "title": {
           "text": "Cluster"
          }
         },
         "colorscale": [
          [
           0,
           "#0d0887"
          ],
          [
           0.1111111111111111,
           "#46039f"
          ],
          [
           0.2222222222222222,
           "#7201a8"
          ],
          [
           0.3333333333333333,
           "#9c179e"
          ],
          [
           0.4444444444444444,
           "#bd3786"
          ],
          [
           0.5555555555555556,
           "#d8576b"
          ],
          [
           0.6666666666666666,
           "#ed7953"
          ],
          [
           0.7777777777777778,
           "#fb9f3a"
          ],
          [
           0.8888888888888888,
           "#fdca26"
          ],
          [
           1,
           "#f0f921"
          ]
         ]
        },
        "geo": {
         "center": {},
         "domain": {
          "x": [
           0,
           1
          ],
          "y": [
           0,
           1
          ]
         }
        },
        "legend": {
         "tracegroupgap": 0
        },
        "template": {
         "data": {
          "bar": [
           {
            "error_x": {
             "color": "#2a3f5f"
            },
            "error_y": {
             "color": "#2a3f5f"
            },
            "marker": {
             "line": {
              "color": "#E5ECF6",
              "width": 0.5
             }
            },
            "type": "bar"
           }
          ],
          "barpolar": [
           {
            "marker": {
             "line": {
              "color": "#E5ECF6",
              "width": 0.5
             }
            },
            "type": "barpolar"
           }
          ],
          "carpet": [
           {
            "aaxis": {
             "endlinecolor": "#2a3f5f",
             "gridcolor": "white",
             "linecolor": "white",
             "minorgridcolor": "white",
             "startlinecolor": "#2a3f5f"
            },
            "baxis": {
             "endlinecolor": "#2a3f5f",
             "gridcolor": "white",
             "linecolor": "white",
             "minorgridcolor": "white",
             "startlinecolor": "#2a3f5f"
            },
            "type": "carpet"
           }
          ],
          "choropleth": [
           {
            "colorbar": {
             "outlinewidth": 0,
             "ticks": ""
            },
            "type": "choropleth"
           }
          ],
          "contour": [
           {
            "colorbar": {
             "outlinewidth": 0,
             "ticks": ""
            },
            "colorscale": [
             [
              0,
              "#0d0887"
             ],
             [
              0.1111111111111111,
              "#46039f"
             ],
             [
              0.2222222222222222,
              "#7201a8"
             ],
             [
              0.3333333333333333,
              "#9c179e"
             ],
             [
              0.4444444444444444,
              "#bd3786"
             ],
             [
              0.5555555555555556,
              "#d8576b"
             ],
             [
              0.6666666666666666,
              "#ed7953"
             ],
             [
              0.7777777777777778,
              "#fb9f3a"
             ],
             [
              0.8888888888888888,
              "#fdca26"
             ],
             [
              1,
              "#f0f921"
             ]
            ],
            "type": "contour"
           }
          ],
          "contourcarpet": [
           {
            "colorbar": {
             "outlinewidth": 0,
             "ticks": ""
            },
            "type": "contourcarpet"
           }
          ],
          "heatmap": [
           {
            "colorbar": {
             "outlinewidth": 0,
             "ticks": ""
            },
            "colorscale": [
             [
              0,
              "#0d0887"
             ],
             [
              0.1111111111111111,
              "#46039f"
             ],
             [
              0.2222222222222222,
              "#7201a8"
             ],
             [
              0.3333333333333333,
              "#9c179e"
             ],
             [
              0.4444444444444444,
              "#bd3786"
             ],
             [
              0.5555555555555556,
              "#d8576b"
             ],
             [
              0.6666666666666666,
              "#ed7953"
             ],
             [
              0.7777777777777778,
              "#fb9f3a"
             ],
             [
              0.8888888888888888,
              "#fdca26"
             ],
             [
              1,
              "#f0f921"
             ]
            ],
            "type": "heatmap"
           }
          ],
          "heatmapgl": [
           {
            "colorbar": {
             "outlinewidth": 0,
             "ticks": ""
            },
            "colorscale": [
             [
              0,
              "#0d0887"
             ],
             [
              0.1111111111111111,
              "#46039f"
             ],
             [
              0.2222222222222222,
              "#7201a8"
             ],
             [
              0.3333333333333333,
              "#9c179e"
             ],
             [
              0.4444444444444444,
              "#bd3786"
             ],
             [
              0.5555555555555556,
              "#d8576b"
             ],
             [
              0.6666666666666666,
              "#ed7953"
             ],
             [
              0.7777777777777778,
              "#fb9f3a"
             ],
             [
              0.8888888888888888,
              "#fdca26"
             ],
             [
              1,
              "#f0f921"
             ]
            ],
            "type": "heatmapgl"
           }
          ],
          "histogram": [
           {
            "marker": {
             "colorbar": {
              "outlinewidth": 0,
              "ticks": ""
             }
            },
            "type": "histogram"
           }
          ],
          "histogram2d": [
           {
            "colorbar": {
             "outlinewidth": 0,
             "ticks": ""
            },
            "colorscale": [
             [
              0,
              "#0d0887"
             ],
             [
              0.1111111111111111,
              "#46039f"
             ],
             [
              0.2222222222222222,
              "#7201a8"
             ],
             [
              0.3333333333333333,
              "#9c179e"
             ],
             [
              0.4444444444444444,
              "#bd3786"
             ],
             [
              0.5555555555555556,
              "#d8576b"
             ],
             [
              0.6666666666666666,
              "#ed7953"
             ],
             [
              0.7777777777777778,
              "#fb9f3a"
             ],
             [
              0.8888888888888888,
              "#fdca26"
             ],
             [
              1,
              "#f0f921"
             ]
            ],
            "type": "histogram2d"
           }
          ],
          "histogram2dcontour": [
           {
            "colorbar": {
             "outlinewidth": 0,
             "ticks": ""
            },
            "colorscale": [
             [
              0,
              "#0d0887"
             ],
             [
              0.1111111111111111,
              "#46039f"
             ],
             [
              0.2222222222222222,
              "#7201a8"
             ],
             [
              0.3333333333333333,
              "#9c179e"
             ],
             [
              0.4444444444444444,
              "#bd3786"
             ],
             [
              0.5555555555555556,
              "#d8576b"
             ],
             [
              0.6666666666666666,
              "#ed7953"
             ],
             [
              0.7777777777777778,
              "#fb9f3a"
             ],
             [
              0.8888888888888888,
              "#fdca26"
             ],
             [
              1,
              "#f0f921"
             ]
            ],
            "type": "histogram2dcontour"
           }
          ],
          "mesh3d": [
           {
            "colorbar": {
             "outlinewidth": 0,
             "ticks": ""
            },
            "type": "mesh3d"
           }
          ],
          "parcoords": [
           {
            "line": {
             "colorbar": {
              "outlinewidth": 0,
              "ticks": ""
             }
            },
            "type": "parcoords"
           }
          ],
          "pie": [
           {
            "automargin": true,
            "type": "pie"
           }
          ],
          "scatter": [
           {
            "marker": {
             "colorbar": {
              "outlinewidth": 0,
              "ticks": ""
             }
            },
            "type": "scatter"
           }
          ],
          "scatter3d": [
           {
            "line": {
             "colorbar": {
              "outlinewidth": 0,
              "ticks": ""
             }
            },
            "marker": {
             "colorbar": {
              "outlinewidth": 0,
              "ticks": ""
             }
            },
            "type": "scatter3d"
           }
          ],
          "scattercarpet": [
           {
            "marker": {
             "colorbar": {
              "outlinewidth": 0,
              "ticks": ""
             }
            },
            "type": "scattercarpet"
           }
          ],
          "scattergeo": [
           {
            "marker": {
             "colorbar": {
              "outlinewidth": 0,
              "ticks": ""
             }
            },
            "type": "scattergeo"
           }
          ],
          "scattergl": [
           {
            "marker": {
             "colorbar": {
              "outlinewidth": 0,
              "ticks": ""
             }
            },
            "type": "scattergl"
           }
          ],
          "scattermapbox": [
           {
            "marker": {
             "colorbar": {
              "outlinewidth": 0,
              "ticks": ""
             }
            },
            "type": "scattermapbox"
           }
          ],
          "scatterpolar": [
           {
            "marker": {
             "colorbar": {
              "outlinewidth": 0,
              "ticks": ""
             }
            },
            "type": "scatterpolar"
           }
          ],
          "scatterpolargl": [
           {
            "marker": {
             "colorbar": {
              "outlinewidth": 0,
              "ticks": ""
             }
            },
            "type": "scatterpolargl"
           }
          ],
          "scatterternary": [
           {
            "marker": {
             "colorbar": {
              "outlinewidth": 0,
              "ticks": ""
             }
            },
            "type": "scatterternary"
           }
          ],
          "surface": [
           {
            "colorbar": {
             "outlinewidth": 0,
             "ticks": ""
            },
            "colorscale": [
             [
              0,
              "#0d0887"
             ],
             [
              0.1111111111111111,
              "#46039f"
             ],
             [
              0.2222222222222222,
              "#7201a8"
             ],
             [
              0.3333333333333333,
              "#9c179e"
             ],
             [
              0.4444444444444444,
              "#bd3786"
             ],
             [
              0.5555555555555556,
              "#d8576b"
             ],
             [
              0.6666666666666666,
              "#ed7953"
             ],
             [
              0.7777777777777778,
              "#fb9f3a"
             ],
             [
              0.8888888888888888,
              "#fdca26"
             ],
             [
              1,
              "#f0f921"
             ]
            ],
            "type": "surface"
           }
          ],
          "table": [
           {
            "cells": {
             "fill": {
              "color": "#EBF0F8"
             },
             "line": {
              "color": "white"
             }
            },
            "header": {
             "fill": {
              "color": "#C8D4E3"
             },
             "line": {
              "color": "white"
             }
            },
            "type": "table"
           }
          ]
         },
         "layout": {
          "annotationdefaults": {
           "arrowcolor": "#2a3f5f",
           "arrowhead": 0,
           "arrowwidth": 1
          },
          "autotypenumbers": "strict",
          "coloraxis": {
           "colorbar": {
            "outlinewidth": 0,
            "ticks": ""
           }
          },
          "colorscale": {
           "diverging": [
            [
             0,
             "#8e0152"
            ],
            [
             0.1,
             "#c51b7d"
            ],
            [
             0.2,
             "#de77ae"
            ],
            [
             0.3,
             "#f1b6da"
            ],
            [
             0.4,
             "#fde0ef"
            ],
            [
             0.5,
             "#f7f7f7"
            ],
            [
             0.6,
             "#e6f5d0"
            ],
            [
             0.7,
             "#b8e186"
            ],
            [
             0.8,
             "#7fbc41"
            ],
            [
             0.9,
             "#4d9221"
            ],
            [
             1,
             "#276419"
            ]
           ],
           "sequential": [
            [
             0,
             "#0d0887"
            ],
            [
             0.1111111111111111,
             "#46039f"
            ],
            [
             0.2222222222222222,
             "#7201a8"
            ],
            [
             0.3333333333333333,
             "#9c179e"
            ],
            [
             0.4444444444444444,
             "#bd3786"
            ],
            [
             0.5555555555555556,
             "#d8576b"
            ],
            [
             0.6666666666666666,
             "#ed7953"
            ],
            [
             0.7777777777777778,
             "#fb9f3a"
            ],
            [
             0.8888888888888888,
             "#fdca26"
            ],
            [
             1,
             "#f0f921"
            ]
           ],
           "sequentialminus": [
            [
             0,
             "#0d0887"
            ],
            [
             0.1111111111111111,
             "#46039f"
            ],
            [
             0.2222222222222222,
             "#7201a8"
            ],
            [
             0.3333333333333333,
             "#9c179e"
            ],
            [
             0.4444444444444444,
             "#bd3786"
            ],
            [
             0.5555555555555556,
             "#d8576b"
            ],
            [
             0.6666666666666666,
             "#ed7953"
            ],
            [
             0.7777777777777778,
             "#fb9f3a"
            ],
            [
             0.8888888888888888,
             "#fdca26"
            ],
            [
             1,
             "#f0f921"
            ]
           ]
          },
          "colorway": [
           "#636efa",
           "#EF553B",
           "#00cc96",
           "#ab63fa",
           "#FFA15A",
           "#19d3f3",
           "#FF6692",
           "#B6E880",
           "#FF97FF",
           "#FECB52"
          ],
          "font": {
           "color": "#2a3f5f"
          },
          "geo": {
           "bgcolor": "white",
           "lakecolor": "white",
           "landcolor": "#E5ECF6",
           "showlakes": true,
           "showland": true,
           "subunitcolor": "white"
          },
          "hoverlabel": {
           "align": "left"
          },
          "hovermode": "closest",
          "mapbox": {
           "style": "light"
          },
          "paper_bgcolor": "white",
          "plot_bgcolor": "#E5ECF6",
          "polar": {
           "angularaxis": {
            "gridcolor": "white",
            "linecolor": "white",
            "ticks": ""
           },
           "bgcolor": "#E5ECF6",
           "radialaxis": {
            "gridcolor": "white",
            "linecolor": "white",
            "ticks": ""
           }
          },
          "scene": {
           "xaxis": {
            "backgroundcolor": "#E5ECF6",
            "gridcolor": "white",
            "gridwidth": 2,
            "linecolor": "white",
            "showbackground": true,
            "ticks": "",
            "zerolinecolor": "white"
           },
           "yaxis": {
            "backgroundcolor": "#E5ECF6",
            "gridcolor": "white",
            "gridwidth": 2,
            "linecolor": "white",
            "showbackground": true,
            "ticks": "",
            "zerolinecolor": "white"
           },
           "zaxis": {
            "backgroundcolor": "#E5ECF6",
            "gridcolor": "white",
            "gridwidth": 2,
            "linecolor": "white",
            "showbackground": true,
            "ticks": "",
            "zerolinecolor": "white"
           }
          },
          "shapedefaults": {
           "line": {
            "color": "#2a3f5f"
           }
          },
          "ternary": {
           "aaxis": {
            "gridcolor": "white",
            "linecolor": "white",
            "ticks": ""
           },
           "baxis": {
            "gridcolor": "white",
            "linecolor": "white",
            "ticks": ""
           },
           "bgcolor": "#E5ECF6",
           "caxis": {
            "gridcolor": "white",
            "linecolor": "white",
            "ticks": ""
           }
          },
          "title": {
           "x": 0.05
          },
          "xaxis": {
           "automargin": true,
           "gridcolor": "white",
           "linecolor": "white",
           "ticks": "",
           "title": {
            "standoff": 15
           },
           "zerolinecolor": "white",
           "zerolinewidth": 2
          },
          "yaxis": {
           "automargin": true,
           "gridcolor": "white",
           "linecolor": "white",
           "ticks": "",
           "title": {
            "standoff": 15
           },
           "zerolinecolor": "white",
           "zerolinewidth": 2
          }
         }
        },
        "title": {
         "text": "Cluster por país"
        }
       }
      },
      "text/html": [
       "<div>                            <div id=\"3044c2b8-b7c1-4292-bc30-8562ef688e73\" class=\"plotly-graph-div\" style=\"height:525px; width:100%;\"></div>            <script type=\"text/javascript\">                require([\"plotly\"], function(Plotly) {                    window.PLOTLYENV=window.PLOTLYENV || {};                                    if (document.getElementById(\"3044c2b8-b7c1-4292-bc30-8562ef688e73\")) {                    Plotly.newPlot(                        \"3044c2b8-b7c1-4292-bc30-8562ef688e73\",                        [{\"coloraxis\": \"coloraxis\", \"geo\": \"geo\", \"hovertemplate\": \"Country=%{location}<br>Cluster=%{z}<extra></extra>\", \"locationmode\": \"country names\", \"locations\": [\"Afghanistan \", \"Albania \", \"Algeria \", \"American Samoa \", \"Andorra \", \"Angola \", \"Anguilla \", \"Antigua & Barbuda \", \"Argentina \", \"Armenia \", \"Aruba \", \"Australia \", \"Austria \", \"Azerbaijan \", \"Bahamas. The \", \"Bahrain \", \"Bangladesh \", \"Barbados \", \"Belarus \", \"Belgium \", \"Belize \", \"Benin \", \"Bermuda \", \"Bhutan \", \"Bolivia \", \"Bosnia & Herzegovina \", \"Botswana \", \"Brazil \", \"British Virgin Is. \", \"Brunei \", \"Bulgaria \", \"Burkina Faso \", \"Burma \", \"Burundi \", \"Cambodia \", \"Cameroon \", \"Canada \", \"Cape Verde \", \"Cayman Islands \", \"Central African Rep. \", \"Chad \", \"Chile \", \"China \", \"Colombia \", \"Comoros \", \"Congo. Dem. Rep. \", \"Congo. Repub. of the \", \"Cook Islands \", \"Costa Rica \", \"Cote d'Ivoire \", \"Croatia \", \"Cuba \", \"Cyprus \", \"Czech Republic \", \"Denmark \", \"Djibouti \", \"Dominica \", \"Dominican Republic \", \"East Timor \", \"Ecuador \", \"Egypt \", \"El Salvador \", \"Equatorial Guinea \", \"Eritrea \", \"Estonia \", \"Ethiopia \", \"Faroe Islands \", \"Fiji \", \"Finland \", \"France \", \"French Guiana \", \"French Polynesia \", \"Gabon \", \"Gambia. The \", \"Gaza Strip \", \"Georgia \", \"Germany \", \"Ghana \", \"Gibraltar \", \"Greece \", \"Greenland \", \"Grenada \", \"Guadeloupe \", \"Guam \", \"Guatemala \", \"Guernsey \", \"Guinea \", \"Guinea-Bissau \", \"Guyana \", \"Haiti \", \"Honduras \", \"Hong Kong \", \"Hungary \", \"Iceland \", \"India \", \"Indonesia \", \"Iran \", \"Iraq \", \"Ireland \", \"Isle of Man \", \"Israel \", \"Italy \", \"Jamaica \", \"Japan \", \"Jersey \", \"Jordan \", \"Kazakhstan \", \"Kenya \", \"Kiribati \", \"Korea. North \", \"Korea. South \", \"Kuwait \", \"Kyrgyzstan \", \"Laos \", \"Latvia \", \"Lebanon \", \"Lesotho \", \"Liberia \", \"Libya \", \"Liechtenstein \", \"Lithuania \", \"Luxembourg \", \"Macau \", \"Macedonia \", \"Madagascar \", \"Malawi \", \"Malaysia \", \"Maldives \", \"Mali \", \"Malta \", \"Marshall Islands \", \"Martinique \", \"Mauritania \", \"Mauritius \", \"Mayotte \", \"Mexico \", \"Micronesia. Fed. St. \", \"Moldova \", \"Monaco \", \"Mongolia \", \"Montserrat \", \"Morocco \", \"Mozambique \", \"Namibia \", \"Nauru \", \"Nepal \", \"Netherlands \", \"Netherlands Antilles \", \"New Caledonia \", \"New Zealand \", \"Nicaragua \", \"Niger \", \"Nigeria \", \"N. Mariana Islands \", \"Norway \", \"Oman \", \"Pakistan \", \"Palau \", \"Panama \", \"Papua New Guinea \", \"Paraguay \", \"Peru \", \"Philippines \", \"Poland \", \"Portugal \", \"Puerto Rico \", \"Qatar \", \"Reunion \", \"Romania \", \"Russia \", \"Rwanda \", \"Saint Helena \", \"Saint Kitts & Nevis \", \"Saint Lucia \", \"St Pierre & Miquelon \", \"Saint Vincent and the Grenadines \", \"Samoa \", \"San Marino \", \"Sao Tome & Principe \", \"Saudi Arabia \", \"Senegal \", \"Serbia \", \"Seychelles \", \"Sierra Leone \", \"Singapore \", \"Slovakia \", \"Slovenia \", \"Solomon Islands \", \"Somalia \", \"South Africa \", \"Spain \", \"Sri Lanka \", \"Sudan \", \"Suriname \", \"Swaziland \", \"Sweden \", \"Switzerland \", \"Syria \", \"Taiwan \", \"Tajikistan \", \"Tanzania \", \"Thailand \", \"Togo \", \"Tonga \", \"Trinidad & Tobago \", \"Tunisia \", \"Turkey \", \"Turkmenistan \", \"Turks & Caicos Is \", \"Tuvalu \", \"Uganda \", \"Ukraine \", \"United Arab Emirates \", \"United Kingdom \", \"United States \", \"Uruguay \", \"Uzbekistan \", \"Vanuatu \", \"Venezuela \", \"Vietnam \", \"Virgin Islands \", \"Wallis and Futuna \", \"West Bank \", \"Western Sahara \", \"Yemen \", \"Zambia \", \"Zimbabwe \"], \"name\": \"\", \"type\": \"choropleth\", \"z\": [3, 2, 0, 2, 1, 3, 1, 1, 0, 2, 1, 1, 1, 0, 1, 0, 2, 1, 2, 1, 0, 3, 1, 3, 0, 2, 0, 0, 1, 0, 2, 3, 3, 3, 3, 3, 1, 0, 1, 3, 3, 0, 0, 0, 2, 3, 0, 2, 0, 3, 1, 2, 1, 2, 1, 3, 2, 2, 0, 0, 0, 2, 0, 0, 1, 3, 1, 0, 1, 1, 0, 1, 0, 3, 2, 2, 1, 3, 1, 1, 0, 2, 1, 1, 0, 1, 3, 3, 0, 3, 0, 1, 2, 1, 2, 0, 0, 0, 1, 1, 1, 1, 2, 1, 1, 0, 0, 3, 2, 2, 1, 0, 0, 3, 2, 2, 3, 3, 0, 1, 2, 1, 1, 2, 3, 3, 0, 2, 3, 1, 2, 1, 3, 2, 0, 0, 2, 2, 1, 0, 0, 0, 3, 0, 0, 3, 1, 1, 1, 1, 0, 3, 3, 1, 1, 0, 3, 1, 0, 0, 0, 0, 2, 2, 1, 0, 0, 1, 2, 0, 3, 0, 1, 2, 1, 2, 2, 1, 2, 0, 3, 2, 0, 3, 1, 2, 1, 0, 3, 0, 1, 2, 3, 0, 3, 1, 1, 0, 1, 0, 3, 2, 3, 2, 2, 2, 2, 0, 0, 0, 3, 2, 0, 1, 1, 1, 0, 0, 0, 0, 1, 2, 2, 0, 0, 3, 3]}],                        {\"coloraxis\": {\"colorbar\": {\"title\": {\"text\": \"Cluster\"}}, \"colorscale\": [[0.0, \"#0d0887\"], [0.1111111111111111, \"#46039f\"], [0.2222222222222222, \"#7201a8\"], [0.3333333333333333, \"#9c179e\"], [0.4444444444444444, \"#bd3786\"], [0.5555555555555556, \"#d8576b\"], [0.6666666666666666, \"#ed7953\"], [0.7777777777777778, \"#fb9f3a\"], [0.8888888888888888, \"#fdca26\"], [1.0, \"#f0f921\"]]}, \"geo\": {\"center\": {}, \"domain\": {\"x\": [0.0, 1.0], \"y\": [0.0, 1.0]}}, \"legend\": {\"tracegroupgap\": 0}, \"template\": {\"data\": {\"bar\": [{\"error_x\": {\"color\": \"#2a3f5f\"}, \"error_y\": {\"color\": \"#2a3f5f\"}, \"marker\": {\"line\": {\"color\": \"#E5ECF6\", \"width\": 0.5}}, \"type\": \"bar\"}], \"barpolar\": [{\"marker\": {\"line\": {\"color\": \"#E5ECF6\", \"width\": 0.5}}, \"type\": \"barpolar\"}], \"carpet\": [{\"aaxis\": {\"endlinecolor\": \"#2a3f5f\", \"gridcolor\": \"white\", \"linecolor\": \"white\", \"minorgridcolor\": \"white\", \"startlinecolor\": \"#2a3f5f\"}, \"baxis\": {\"endlinecolor\": \"#2a3f5f\", \"gridcolor\": \"white\", \"linecolor\": \"white\", \"minorgridcolor\": \"white\", \"startlinecolor\": \"#2a3f5f\"}, \"type\": \"carpet\"}], \"choropleth\": [{\"colorbar\": {\"outlinewidth\": 0, \"ticks\": \"\"}, \"type\": \"choropleth\"}], \"contour\": [{\"colorbar\": {\"outlinewidth\": 0, \"ticks\": \"\"}, \"colorscale\": [[0.0, \"#0d0887\"], [0.1111111111111111, \"#46039f\"], [0.2222222222222222, \"#7201a8\"], [0.3333333333333333, \"#9c179e\"], [0.4444444444444444, \"#bd3786\"], [0.5555555555555556, \"#d8576b\"], [0.6666666666666666, \"#ed7953\"], [0.7777777777777778, \"#fb9f3a\"], [0.8888888888888888, \"#fdca26\"], [1.0, \"#f0f921\"]], \"type\": \"contour\"}], \"contourcarpet\": [{\"colorbar\": {\"outlinewidth\": 0, \"ticks\": \"\"}, \"type\": \"contourcarpet\"}], \"heatmap\": [{\"colorbar\": {\"outlinewidth\": 0, \"ticks\": \"\"}, \"colorscale\": [[0.0, \"#0d0887\"], [0.1111111111111111, \"#46039f\"], [0.2222222222222222, \"#7201a8\"], [0.3333333333333333, \"#9c179e\"], [0.4444444444444444, \"#bd3786\"], [0.5555555555555556, \"#d8576b\"], [0.6666666666666666, \"#ed7953\"], [0.7777777777777778, \"#fb9f3a\"], [0.8888888888888888, \"#fdca26\"], [1.0, \"#f0f921\"]], \"type\": \"heatmap\"}], \"heatmapgl\": [{\"colorbar\": {\"outlinewidth\": 0, \"ticks\": \"\"}, \"colorscale\": [[0.0, \"#0d0887\"], [0.1111111111111111, \"#46039f\"], [0.2222222222222222, \"#7201a8\"], [0.3333333333333333, \"#9c179e\"], [0.4444444444444444, \"#bd3786\"], [0.5555555555555556, \"#d8576b\"], [0.6666666666666666, \"#ed7953\"], [0.7777777777777778, \"#fb9f3a\"], [0.8888888888888888, \"#fdca26\"], [1.0, \"#f0f921\"]], \"type\": \"heatmapgl\"}], \"histogram\": [{\"marker\": {\"colorbar\": {\"outlinewidth\": 0, \"ticks\": \"\"}}, \"type\": \"histogram\"}], \"histogram2d\": [{\"colorbar\": {\"outlinewidth\": 0, \"ticks\": \"\"}, \"colorscale\": [[0.0, \"#0d0887\"], [0.1111111111111111, \"#46039f\"], [0.2222222222222222, \"#7201a8\"], [0.3333333333333333, \"#9c179e\"], [0.4444444444444444, \"#bd3786\"], [0.5555555555555556, \"#d8576b\"], [0.6666666666666666, \"#ed7953\"], [0.7777777777777778, \"#fb9f3a\"], [0.8888888888888888, \"#fdca26\"], [1.0, \"#f0f921\"]], \"type\": \"histogram2d\"}], \"histogram2dcontour\": [{\"colorbar\": {\"outlinewidth\": 0, \"ticks\": \"\"}, \"colorscale\": [[0.0, \"#0d0887\"], [0.1111111111111111, \"#46039f\"], [0.2222222222222222, \"#7201a8\"], [0.3333333333333333, \"#9c179e\"], [0.4444444444444444, \"#bd3786\"], [0.5555555555555556, \"#d8576b\"], [0.6666666666666666, \"#ed7953\"], [0.7777777777777778, \"#fb9f3a\"], [0.8888888888888888, \"#fdca26\"], [1.0, \"#f0f921\"]], \"type\": \"histogram2dcontour\"}], \"mesh3d\": [{\"colorbar\": {\"outlinewidth\": 0, \"ticks\": \"\"}, \"type\": \"mesh3d\"}], \"parcoords\": [{\"line\": {\"colorbar\": {\"outlinewidth\": 0, \"ticks\": \"\"}}, \"type\": \"parcoords\"}], \"pie\": [{\"automargin\": true, \"type\": \"pie\"}], \"scatter\": [{\"marker\": {\"colorbar\": {\"outlinewidth\": 0, \"ticks\": \"\"}}, \"type\": \"scatter\"}], \"scatter3d\": [{\"line\": {\"colorbar\": {\"outlinewidth\": 0, \"ticks\": \"\"}}, \"marker\": {\"colorbar\": {\"outlinewidth\": 0, \"ticks\": \"\"}}, \"type\": \"scatter3d\"}], \"scattercarpet\": [{\"marker\": {\"colorbar\": {\"outlinewidth\": 0, \"ticks\": \"\"}}, \"type\": \"scattercarpet\"}], \"scattergeo\": [{\"marker\": {\"colorbar\": {\"outlinewidth\": 0, \"ticks\": \"\"}}, \"type\": \"scattergeo\"}], \"scattergl\": [{\"marker\": {\"colorbar\": {\"outlinewidth\": 0, \"ticks\": \"\"}}, \"type\": \"scattergl\"}], \"scattermapbox\": [{\"marker\": {\"colorbar\": {\"outlinewidth\": 0, \"ticks\": \"\"}}, \"type\": \"scattermapbox\"}], \"scatterpolar\": [{\"marker\": {\"colorbar\": {\"outlinewidth\": 0, \"ticks\": \"\"}}, \"type\": \"scatterpolar\"}], \"scatterpolargl\": [{\"marker\": {\"colorbar\": {\"outlinewidth\": 0, \"ticks\": \"\"}}, \"type\": \"scatterpolargl\"}], \"scatterternary\": [{\"marker\": {\"colorbar\": {\"outlinewidth\": 0, \"ticks\": \"\"}}, \"type\": \"scatterternary\"}], \"surface\": [{\"colorbar\": {\"outlinewidth\": 0, \"ticks\": \"\"}, \"colorscale\": [[0.0, \"#0d0887\"], [0.1111111111111111, \"#46039f\"], [0.2222222222222222, \"#7201a8\"], [0.3333333333333333, \"#9c179e\"], [0.4444444444444444, \"#bd3786\"], [0.5555555555555556, \"#d8576b\"], [0.6666666666666666, \"#ed7953\"], [0.7777777777777778, \"#fb9f3a\"], [0.8888888888888888, \"#fdca26\"], [1.0, \"#f0f921\"]], \"type\": \"surface\"}], \"table\": [{\"cells\": {\"fill\": {\"color\": \"#EBF0F8\"}, \"line\": {\"color\": \"white\"}}, \"header\": {\"fill\": {\"color\": \"#C8D4E3\"}, \"line\": {\"color\": \"white\"}}, \"type\": \"table\"}]}, \"layout\": {\"annotationdefaults\": {\"arrowcolor\": \"#2a3f5f\", \"arrowhead\": 0, \"arrowwidth\": 1}, \"autotypenumbers\": \"strict\", \"coloraxis\": {\"colorbar\": {\"outlinewidth\": 0, \"ticks\": \"\"}}, \"colorscale\": {\"diverging\": [[0, \"#8e0152\"], [0.1, \"#c51b7d\"], [0.2, \"#de77ae\"], [0.3, \"#f1b6da\"], [0.4, \"#fde0ef\"], [0.5, \"#f7f7f7\"], [0.6, \"#e6f5d0\"], [0.7, \"#b8e186\"], [0.8, \"#7fbc41\"], [0.9, \"#4d9221\"], [1, \"#276419\"]], \"sequential\": [[0.0, \"#0d0887\"], [0.1111111111111111, \"#46039f\"], [0.2222222222222222, \"#7201a8\"], [0.3333333333333333, \"#9c179e\"], [0.4444444444444444, \"#bd3786\"], [0.5555555555555556, \"#d8576b\"], [0.6666666666666666, \"#ed7953\"], [0.7777777777777778, \"#fb9f3a\"], [0.8888888888888888, \"#fdca26\"], [1.0, \"#f0f921\"]], \"sequentialminus\": [[0.0, \"#0d0887\"], [0.1111111111111111, \"#46039f\"], [0.2222222222222222, \"#7201a8\"], [0.3333333333333333, \"#9c179e\"], [0.4444444444444444, \"#bd3786\"], [0.5555555555555556, \"#d8576b\"], [0.6666666666666666, \"#ed7953\"], [0.7777777777777778, \"#fb9f3a\"], [0.8888888888888888, \"#fdca26\"], [1.0, \"#f0f921\"]]}, \"colorway\": [\"#636efa\", \"#EF553B\", \"#00cc96\", \"#ab63fa\", \"#FFA15A\", \"#19d3f3\", \"#FF6692\", \"#B6E880\", \"#FF97FF\", \"#FECB52\"], \"font\": {\"color\": \"#2a3f5f\"}, \"geo\": {\"bgcolor\": \"white\", \"lakecolor\": \"white\", \"landcolor\": \"#E5ECF6\", \"showlakes\": true, \"showland\": true, \"subunitcolor\": \"white\"}, \"hoverlabel\": {\"align\": \"left\"}, \"hovermode\": \"closest\", \"mapbox\": {\"style\": \"light\"}, \"paper_bgcolor\": \"white\", \"plot_bgcolor\": \"#E5ECF6\", \"polar\": {\"angularaxis\": {\"gridcolor\": \"white\", \"linecolor\": \"white\", \"ticks\": \"\"}, \"bgcolor\": \"#E5ECF6\", \"radialaxis\": {\"gridcolor\": \"white\", \"linecolor\": \"white\", \"ticks\": \"\"}}, \"scene\": {\"xaxis\": {\"backgroundcolor\": \"#E5ECF6\", \"gridcolor\": \"white\", \"gridwidth\": 2, \"linecolor\": \"white\", \"showbackground\": true, \"ticks\": \"\", \"zerolinecolor\": \"white\"}, \"yaxis\": {\"backgroundcolor\": \"#E5ECF6\", \"gridcolor\": \"white\", \"gridwidth\": 2, \"linecolor\": \"white\", \"showbackground\": true, \"ticks\": \"\", \"zerolinecolor\": \"white\"}, \"zaxis\": {\"backgroundcolor\": \"#E5ECF6\", \"gridcolor\": \"white\", \"gridwidth\": 2, \"linecolor\": \"white\", \"showbackground\": true, \"ticks\": \"\", \"zerolinecolor\": \"white\"}}, \"shapedefaults\": {\"line\": {\"color\": \"#2a3f5f\"}}, \"ternary\": {\"aaxis\": {\"gridcolor\": \"white\", \"linecolor\": \"white\", \"ticks\": \"\"}, \"baxis\": {\"gridcolor\": \"white\", \"linecolor\": \"white\", \"ticks\": \"\"}, \"bgcolor\": \"#E5ECF6\", \"caxis\": {\"gridcolor\": \"white\", \"linecolor\": \"white\", \"ticks\": \"\"}}, \"title\": {\"x\": 0.05}, \"xaxis\": {\"automargin\": true, \"gridcolor\": \"white\", \"linecolor\": \"white\", \"ticks\": \"\", \"title\": {\"standoff\": 15}, \"zerolinecolor\": \"white\", \"zerolinewidth\": 2}, \"yaxis\": {\"automargin\": true, \"gridcolor\": \"white\", \"linecolor\": \"white\", \"ticks\": \"\", \"title\": {\"standoff\": 15}, \"zerolinecolor\": \"white\", \"zerolinewidth\": 2}}}, \"title\": {\"text\": \"Cluster por pa\\u00eds\"}},                        {\"responsive\": true}                    ).then(function(){\n",
       "                            \n",
       "var gd = document.getElementById('3044c2b8-b7c1-4292-bc30-8562ef688e73');\n",
       "var x = new MutationObserver(function (mutations, observer) {{\n",
       "        var display = window.getComputedStyle(gd).display;\n",
       "        if (!display || display === 'none') {{\n",
       "            console.log([gd, 'removed!']);\n",
       "            Plotly.purge(gd);\n",
       "            observer.disconnect();\n",
       "        }}\n",
       "}});\n",
       "\n",
       "// Listen for the removal of the full notebook cells\n",
       "var notebookContainer = gd.closest('#notebook-container');\n",
       "if (notebookContainer) {{\n",
       "    x.observe(notebookContainer, {childList: true});\n",
       "}}\n",
       "\n",
       "// Listen for the clearing of the current output cell\n",
       "var outputEl = gd.closest('.output');\n",
       "if (outputEl) {{\n",
       "    x.observe(outputEl, {childList: true});\n",
       "}}\n",
       "\n",
       "                        })                };                });            </script>        </div>"
      ]
     },
     "metadata": {},
     "output_type": "display_data"
    }
   ],
   "source": [
    "fig=px.choropleth(dadosdeinteresse,\n",
    "                        locationmode='country names',\n",
    "                        locations='Country',\n",
    "                        color='Cluster',\n",
    "                        title=\"Cluster por país\"\n",
    "                       )\n",
    "fig.show()"
   ]
  },
  {
   "cell_type": "markdown",
   "metadata": {},
   "source": [
    "Dos mapas, pode-se verificar que o cluster 0 se concentra nos países desenvolvidos, tais como, Estados Unidos, Canadá, França, Inglaterra, nota-se também que o Uruguai é o único país que está nesse cluster. No cluster 1, nota-se forte presença dos países africano, além de Afeganistão, Paquistão, são os chamados subdesenvolvidos. No cluster 3, nota-se a presença dos países emergentes, tais como, América do Sul, Rússia, China. Enquanto que no cluster 2, observa-se países como India, Ucrânia, Turquia, e Tailândia. "
   ]
  },
  {
   "cell_type": "markdown",
   "metadata": {},
   "source": [
    "Tem-se o seguinte conjunto de países para o cluster 0:"
   ]
  },
  {
   "cell_type": "code",
   "execution_count": 21,
   "metadata": {},
   "outputs": [
    {
     "data": {
      "text/plain": [
       "array(['Albania ', 'American Samoa ', 'Armenia ', 'Bangladesh ',\n",
       "       'Bulgaria ', 'Cape Verde ', 'Comoros ', 'Cook Islands ', 'Cuba ',\n",
       "       'Czech Republic ', 'Dominica ', 'Dominican Republic ',\n",
       "       'El Salvador ', 'Fiji ', 'Gaza Strip ', 'Georgia ', 'Grenada ',\n",
       "       'Hungary ', 'India ', 'Jamaica ', 'Kiribati ', 'Korea. North ',\n",
       "       'Lebanon ', 'Lithuania ', 'Macedonia ', 'Maldives ',\n",
       "       'Marshall Islands ', 'Mauritius ', 'Micronesia. Fed. St. ',\n",
       "       'Moldova ', 'Philippines ', 'Poland ', 'Romania ', 'Saint Lucia ',\n",
       "       'Saint Vincent and the Grenadines ', 'Samoa ',\n",
       "       'Sao Tome & Principe ', 'Serbia ', 'Seychelles ', 'Sri Lanka ',\n",
       "       'Thailand ', 'Tonga ', 'Tunisia ', 'Turkey ', 'Ukraine ',\n",
       "       'Wallis and Futuna ', 'West Bank '], dtype=object)"
      ]
     },
     "execution_count": 21,
     "metadata": {},
     "output_type": "execute_result"
    }
   ],
   "source": [
    "dadosdeinteresse[dadosdeinteresse[\"Cluster\"]==0][\"Country\"].unique()"
   ]
  },
  {
   "cell_type": "markdown",
   "metadata": {},
   "source": [
    "Para o cluster 1:"
   ]
  },
  {
   "cell_type": "code",
   "execution_count": 22,
   "metadata": {},
   "outputs": [
    {
     "data": {
      "text/plain": [
       "array(['Afghanistan ', 'Angola ', 'Benin ', 'Bhutan ', 'Burkina Faso ',\n",
       "       'Burma ', 'Burundi ', 'Cambodia ', 'Cameroon ',\n",
       "       'Central African Rep. ', 'Chad ', 'Congo. Dem. Rep. ',\n",
       "       \"Cote d'Ivoire \", 'Djibouti ', 'Ethiopia ', 'Gambia. The ',\n",
       "       'Ghana ', 'Guinea ', 'Guinea-Bissau ', 'Haiti ', 'Kenya ', 'Laos ',\n",
       "       'Lesotho ', 'Liberia ', 'Madagascar ', 'Malawi ', 'Mali ',\n",
       "       'Mauritania ', 'Mozambique ', 'Nepal ', 'Niger ', 'Nigeria ',\n",
       "       'Pakistan ', 'Rwanda ', 'Senegal ', 'Sierra Leone ', 'Somalia ',\n",
       "       'Sudan ', 'Swaziland ', 'Tanzania ', 'Togo ', 'Uganda ',\n",
       "       'Vanuatu ', 'Zambia ', 'Zimbabwe '], dtype=object)"
      ]
     },
     "execution_count": 22,
     "metadata": {},
     "output_type": "execute_result"
    }
   ],
   "source": [
    "dadosdeinteresse[dadosdeinteresse[\"Cluster\"]==1][\"Country\"].unique()"
   ]
  },
  {
   "cell_type": "markdown",
   "metadata": {},
   "source": [
    "Para o cluster 2:"
   ]
  },
  {
   "cell_type": "code",
   "execution_count": 23,
   "metadata": {},
   "outputs": [
    {
     "data": {
      "text/plain": [
       "array(['Algeria ', 'Argentina ', 'Azerbaijan ', 'Bahrain ', 'Belize ',\n",
       "       'Bolivia ', 'Botswana ', 'Brazil ', 'Brunei ', 'Chile ', 'China ',\n",
       "       'Colombia ', 'Congo. Repub. of the ', 'Costa Rica ', 'East Timor ',\n",
       "       'Ecuador ', 'Egypt ', 'Equatorial Guinea ', 'Eritrea ', 'Gabon ',\n",
       "       'Greenland ', 'Guatemala ', 'Guyana ', 'Honduras ', 'Indonesia ',\n",
       "       'Iran ', 'Iraq ', 'Jordan ', 'Kazakhstan ', 'Kuwait ',\n",
       "       'Kyrgyzstan ', 'Libya ', 'Malaysia ', 'Mayotte ', 'Mexico ',\n",
       "       'Mongolia ', 'Montserrat ', 'Morocco ', 'Namibia ', 'Nauru ',\n",
       "       'Nicaragua ', 'Oman ', 'Panama ', 'Papua New Guinea ', 'Paraguay ',\n",
       "       'Peru ', 'Puerto Rico ', 'Qatar ', 'Russia ', 'Saint Helena ',\n",
       "       'Saudi Arabia ', 'Solomon Islands ', 'South Africa ', 'Suriname ',\n",
       "       'Syria ', 'Tajikistan ', 'Trinidad & Tobago ', 'Turkmenistan ',\n",
       "       'Turks & Caicos Is ', 'Tuvalu ', 'United Arab Emirates ',\n",
       "       'Uzbekistan ', 'Venezuela ', 'Vietnam ', 'Western Sahara ',\n",
       "       'Yemen '], dtype=object)"
      ]
     },
     "execution_count": 23,
     "metadata": {},
     "output_type": "execute_result"
    }
   ],
   "source": [
    "dadosdeinteresse[dadosdeinteresse[\"Cluster\"]==2][\"Country\"].unique()"
   ]
  },
  {
   "cell_type": "markdown",
   "metadata": {},
   "source": [
    "Para o cluster 3:"
   ]
  },
  {
   "cell_type": "code",
   "execution_count": 25,
   "metadata": {},
   "outputs": [
    {
     "data": {
      "text/plain": [
       "array(['Andorra ', 'Anguilla ', 'Antigua & Barbuda ', 'Aruba ',\n",
       "       'Australia ', 'Austria ', 'Bahamas. The ', 'Barbados ', 'Belarus ',\n",
       "       'Belgium ', 'Bermuda ', 'Bosnia & Herzegovina ',\n",
       "       'British Virgin Is. ', 'Canada ', 'Cayman Islands ', 'Croatia ',\n",
       "       'Cyprus ', 'Denmark ', 'Estonia ', 'Faroe Islands ', 'Finland ',\n",
       "       'France ', 'French Guiana ', 'French Polynesia ', 'Germany ',\n",
       "       'Gibraltar ', 'Greece ', 'Guadeloupe ', 'Guam ', 'Guernsey ',\n",
       "       'Hong Kong ', 'Iceland ', 'Ireland ', 'Isle of Man ', 'Israel ',\n",
       "       'Italy ', 'Japan ', 'Jersey ', 'Korea. South ', 'Latvia ',\n",
       "       'Liechtenstein ', 'Luxembourg ', 'Macau ', 'Malta ', 'Martinique ',\n",
       "       'Monaco ', 'Netherlands ', 'Netherlands Antilles ',\n",
       "       'New Caledonia ', 'New Zealand ', 'N. Mariana Islands ', 'Norway ',\n",
       "       'Palau ', 'Portugal ', 'Reunion ', 'Saint Kitts & Nevis ',\n",
       "       'St Pierre & Miquelon ', 'San Marino ', 'Singapore ', 'Slovakia ',\n",
       "       'Slovenia ', 'Spain ', 'Sweden ', 'Switzerland ', 'Taiwan ',\n",
       "       'United Kingdom ', 'United States ', 'Uruguay ', 'Virgin Islands '],\n",
       "      dtype=object)"
      ]
     },
     "execution_count": 25,
     "metadata": {},
     "output_type": "execute_result"
    }
   ],
   "source": [
    "dadosdeinteresse[dadosdeinteresse[\"Cluster\"]==3][\"Country\"].unique()"
   ]
  },
  {
   "cell_type": "markdown",
   "metadata": {},
   "source": [
    "# Conclusão \n",
    "\n",
    "Neste projeto, foi construida uma breve análise exploratória sobre o conjunto de dados, indentificamos a relação entre as variáveis. Nesta etapa, observamos um grande discrepância entre os países em relação a variáveis econômicas e sociais, tais como, PIB per capita, taxa de alfabetização, mortalidade infantil, etc. \n",
    "\n",
    "Por fim, com o modelo kMeans foi obtido que pode-se dividir os países em 4 grupos distintos e semelhantes entre si. Observamos que há países que possuem alto PIC, alta taxa de alfabetização, enquanto há países subdesenvolvidos. Como próxima etapa dessa análise, pode-se, por exemplo, concentrar ajuda humanitária e econômica nos países do cluster 1, que possuem baixo nível de alfabetização, alta mortalidade, baixo PIB per capita."
   ]
  }
 ],
 "metadata": {
  "kernelspec": {
   "display_name": "Python 3",
   "language": "python",
   "name": "python3"
  },
  "language_info": {
   "codemirror_mode": {
    "name": "ipython",
    "version": 3
   },
   "file_extension": ".py",
   "mimetype": "text/x-python",
   "name": "python",
   "nbconvert_exporter": "python",
   "pygments_lexer": "ipython3",
   "version": "3.7.6"
  }
 },
 "nbformat": 4,
 "nbformat_minor": 4
}
